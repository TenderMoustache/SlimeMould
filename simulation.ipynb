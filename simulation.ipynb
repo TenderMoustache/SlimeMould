{
 "cells": [
  {
   "cell_type": "markdown",
   "metadata": {},
   "source": [
    "# Slime Mould GEOjson Based Simulation\n",
    "## Mohamed Berrada"
   ]
  },
  {
   "cell_type": "markdown",
   "metadata": {},
   "source": [
    "# Import libraries"
   ]
  },
  {
   "cell_type": "code",
   "execution_count": 1,
   "metadata": {},
   "outputs": [],
   "source": [
    "import warnings\n",
    "warnings.filterwarnings(\"ignore\")\n",
    "import matplotlib.pyplot as plt\n",
    "import numpy as np\n",
    "import geopandas as gpd\n",
    "import networkx as nx\n",
    "import math\n",
    "from empiricaldist import Pmf\n",
    "import random\n",
    "from collections import deque\n",
    "from matplotlib.animation import FuncAnimation, PillowWriter\n",
    "import pandas as pd\n",
    "from shapely.geometry import Point, Polygon\n",
    "import json\n",
    "import os\n",
    "\n",
    "if not os.path.exists(os.path.join(os.getcwd(), 'output')):\n",
    "    os.makedirs(os.path.join(os.getcwd(), 'output'))"
   ]
  },
  {
   "cell_type": "markdown",
   "metadata": {},
   "source": [
    "## Util Functions"
   ]
  },
  {
   "cell_type": "code",
   "execution_count": 2,
   "metadata": {},
   "outputs": [],
   "source": [
    "def degrees(G):\n",
    "    \"\"\"List of degrees for nodes in `G`.\n",
    "\n",
    "    G: Graph object\n",
    "\n",
    "    returns: list of int\n",
    "    \"\"\"\n",
    "    return [G.degree(u) for u in G]\n",
    "\n",
    "def all_pairs(nodes):\n",
    "    \"\"\"Generates all pairs of nodes.\"\"\"\n",
    "    for i, u in enumerate(nodes):\n",
    "        for j, v in enumerate(nodes):\n",
    "            if i < j:\n",
    "                yield u, v\n",
    "\n",
    "def node_clustering(G, u):\n",
    "    neighbors = G[u]\n",
    "    k = len(neighbors)\n",
    "    if k < 2:\n",
    "        return np.nan\n",
    "\n",
    "    edges = [G.has_edge(v, w) for v, w in all_pairs(neighbors)]\n",
    "    return np.mean(edges)\n",
    "\n",
    "\n",
    "def clustering_coefficient(G):\n",
    "    \"\"\"Average of the local clustering coefficients.\n",
    "    \n",
    "    G: Graph\n",
    "    \n",
    "    returns: float\n",
    "    \"\"\"\n",
    "    cu = [node_clustering(G, node) for node in G]\n",
    "    return np.nanmean(cu)\n",
    "\n",
    "def path_lengths(G):\n",
    "    length_iter = nx.shortest_path_length(G)\n",
    "    for source, dist_map in length_iter:\n",
    "        for dest, dist in dist_map.items():\n",
    "            if source != dest:\n",
    "                yield dist\n",
    "\n",
    "\n",
    "def characteristic_path_length(G):\n",
    "    return np.mean(list(path_lengths(G)))\n",
    "\n",
    "def savefig(filename, **options):\n",
    "    \"\"\"Save the current figure.\n",
    "\n",
    "    Keyword arguments are passed along to plt.savefig\n",
    "\n",
    "    https://matplotlib.org/api/_as_gen/matplotlib.pyplot.savefig.html\n",
    "\n",
    "    filename: string\n",
    "    \"\"\"\n",
    "    print(\"Saving figure to file\", filename)\n",
    "    plt.savefig(filename, **options)\n",
    "\n",
    "def underride(d, **options):\n",
    "    \"\"\"Add key-value pairs to d only if key is not in d.\n",
    "\n",
    "    d: dictionary\n",
    "    options: keyword args to add to d\n",
    "    \"\"\"\n",
    "    for key, val in options.items():\n",
    "        d.setdefault(key, val)\n",
    "\n",
    "    return d\n",
    "\n",
    "def legend(**options):\n",
    "    \"\"\"Draws a legend only if there is at least one labeled item.\n",
    "\n",
    "    options are passed to plt.legend()\n",
    "    https://matplotlib.org/api/_as_gen/matplotlib.pyplot.legend.html\n",
    "\n",
    "    \"\"\"\n",
    "    underride(options, loc=\"best\", frameon=False)\n",
    "\n",
    "    ax = plt.gca()\n",
    "    handles, labels = ax.get_legend_handles_labels()\n",
    "    if handles:\n",
    "        ax.legend(handles, labels, **options)\n",
    "\n",
    "def decorate(**options):\n",
    "    \"\"\"Decorate the current axes.\n",
    "\n",
    "    Call decorate with keyword arguments like\n",
    "\n",
    "    decorate(title='Title',\n",
    "             xlabel='x',\n",
    "             ylabel='y')\n",
    "\n",
    "    The keyword arguments can be any of the axis properties\n",
    "\n",
    "    https://matplotlib.org/api/axes_api.html\n",
    "\n",
    "    In addition, you can use `legend=False` to suppress the legend.\n",
    "\n",
    "    And you can use `loc` to indicate the location of the legend\n",
    "    (the default value is 'best')\n",
    "    \"\"\"\n",
    "    loc = options.pop(\"loc\", \"best\")\n",
    "    if options.pop(\"legend\", True):\n",
    "        legend(loc=loc)\n",
    "\n",
    "    plt.gca().set(**options)\n",
    "    plt.tight_layout()"
   ]
  },
  {
   "cell_type": "markdown",
   "metadata": {},
   "source": [
    "## Slime Mould"
   ]
  },
  {
   "cell_type": "markdown",
   "metadata": {},
   "source": [
    "### Cell"
   ]
  },
  {
   "cell_type": "code",
   "execution_count": 3,
   "metadata": {},
   "outputs": [],
   "source": [
    "class Cell:\n",
    "    def __init__(self, pheromone=0., cell_type=0):\n",
    "        self.pheromone = pheromone\n",
    "        self.cell_type = cell_type\n",
    "\n",
    "    def get_cell_type(self):\n",
    "        return self.cell_type\n"
   ]
  },
  {
   "cell_type": "markdown",
   "metadata": {},
   "source": [
    "### Food"
   ]
  },
  {
   "cell_type": "code",
   "execution_count": 4,
   "metadata": {},
   "outputs": [],
   "source": [
    "class FoodCell(Cell):\n",
    "    def __init__(self, food_id: int, food_idx: tuple):\n",
    "        super().__init__(pheromone=10., cell_type=2)\n",
    "        self.food_id = food_id\n",
    "        self.food_idx = food_idx\n",
    "        self.pheromone = 10.\n",
    "\n",
    "    def get_food_idx(self):\n",
    "        return self.food_idx\n",
    "\n",
    "    def get_food_id(self):\n",
    "        return self.food_id\n"
   ]
  },
  {
   "cell_type": "markdown",
   "metadata": {},
   "source": [
    "### Slime"
   ]
  },
  {
   "cell_type": "code",
   "execution_count": 5,
   "metadata": {},
   "outputs": [],
   "source": [
    "DIFFUSION_THRESHOLD = 3.5\n",
    "DIFFUSION_DECAY_RATE = 1.26\n",
    "DISTANCE_FOR_DIFFUSION_THRESHOLD = 55\n",
    "MOVING_THRESHOLD = 1\n",
    "MAX_PH = 5.5\n",
    "MAX_PH_INCREASE_STEP = 0.2\n",
    "\n",
    "\n",
    "def get_neighbours(idx):\n",
    "    \"\"\"\n",
    "    get the tuple index of the neighbours of the input slime cell\n",
    "    :param idx: the tuple index of the given slime cell\n",
    "    :return: the tuple index of the neighbours\n",
    "    \"\"\"\n",
    "    return [\n",
    "        (idx[0] - 1, idx[1] - 1),  # up   1, left  1\n",
    "        (idx[0] - 1, idx[1]),  # up   1,\n",
    "        (idx[0] - 1, idx[1] + 1),  # up   1, right 1\n",
    "        (idx[0], idx[1] - 1),  # , left  1\n",
    "        (idx[0], idx[1] + 1),  # , right 1\n",
    "        (idx[0] + 1, idx[1] - 1),  # down 1, left  1\n",
    "        (idx[0] + 1, idx[1]),  # down 1,\n",
    "        (idx[0] + 1, idx[1] + 1),  # down 1, right 1\n",
    "    ]\n",
    "\n",
    "\n",
    "def step_direction(index: int, idx: tuple):\n",
    "    \"\"\"\n",
    "    get the next main diffusion step of the slime cell\n",
    "    :param index: direction index\n",
    "    :param idx: the tuple index of the slime cell\n",
    "    :return: the tuple index of the next main diffusion step\n",
    "    \"\"\"\n",
    "    next_step = {\n",
    "        0: (0, 0),\n",
    "        1: (-1, -1),\n",
    "        2: (1, -1),\n",
    "        3: (-1, 1),\n",
    "        4: (1, 1),\n",
    "        5: (-1, 0),\n",
    "        6: (1, 0),\n",
    "        7: (0, -1),\n",
    "        8: (0, 1)\n",
    "    }\n",
    "    return next_step[index][0] + idx[0], next_step[index][1] + idx[1]\n",
    "\n",
    "\n",
    "class SlimeCell(Cell):\n",
    "\n",
    "    def __init__(self, idx: tuple, pheromone: float, mould, dish, is_capital):\n",
    "        super().__init__(pheromone=pheromone, cell_type=1)\n",
    "\n",
    "        self.idx = idx\n",
    "        self.pheromone = pheromone\n",
    "        self.max_ph = 4\n",
    "        self.direction = None\n",
    "        self.is_capital = is_capital\n",
    "        self.reached_food_id = None\n",
    "        self.mould = mould\n",
    "        self.dish = dish\n",
    "        self.food_path = []\n",
    "\n",
    "        # (food_id, food_idx)\n",
    "        self.step_food = None\n",
    "        self.curr_target = None\n",
    "\n",
    "    def find_nearest_food(self, food_ids):\n",
    "        \"\"\"\n",
    "        find the nearest food of the slime cell\n",
    "        :param food_ids: a list of food ids\n",
    "        :return: min_i: the nearest food id, min_dist: distance\n",
    "        \"\"\"\n",
    "        min_dist = -1\n",
    "        min_i = 0\n",
    "        # find the nearest food\n",
    "        for i in food_ids:\n",
    "            food_idx = self.dish.get_food_position(i)\n",
    "            dist = math.dist(self.idx, food_idx)\n",
    "            if min_dist > dist or min_dist < 0:\n",
    "                min_dist = dist\n",
    "                min_i = i\n",
    "        return min_i, min_dist\n",
    "\n",
    "    def set_reached_food_path(self):\n",
    "        \"\"\"\n",
    "        setup the food path the slime cell will go through\n",
    "        \"\"\"\n",
    "        # target food (food_id, food_idx)\n",
    "        target_food_id = self.mould.get_current_target()[0]\n",
    "        self.curr_target = target_food_id\n",
    "\n",
    "        mould_reached_food_ids = self.mould.get_reached_food_ids()\n",
    "\n",
    "        if len(mould_reached_food_ids) == 0:\n",
    "            self.food_path.append(self.mould.get_current_target()[0])\n",
    "\n",
    "        else:\n",
    "            # find the nearest food\n",
    "            min_i = self.find_nearest_food(food_ids=self.mould.get_reached_food_ids())[0]\n",
    "\n",
    "            nearest_target = self.mould.get_nearest_connected_target()\n",
    "            if nearest_target != -1:\n",
    "                # find the shortest path from the nearest food to the target food\n",
    "                self.food_path = nx.shortest_path(G=self.dish.get_food_graph(), source=min_i,\n",
    "                                                  target=nearest_target)\n",
    "            else:\n",
    "                self.food_path.append(min_i)\n",
    "            self.food_path.append(target_food_id)\n",
    "        step_food_id = self.food_path.pop(0)\n",
    "        self.step_food = (step_food_id, self.dish.get_food_position(step_food_id))\n",
    "\n",
    "    def reset_step_food(self):\n",
    "        \"\"\"\n",
    "        The step food is the food in the food path the slime cell will go next.\n",
    "        reset the step food of the current slime cell\n",
    "        \"\"\"\n",
    "        # Check if the current target is a tuple and has more than one element\n",
    "        if isinstance(self.mould.get_current_target(), tuple) and len(self.mould.get_current_target()) > 0:\n",
    "            self.curr_target = self.mould.get_current_target()[0]\n",
    "        else:\n",
    "            self.curr_target = self.mould.get_current_target()\n",
    "\n",
    "        if self.reached_food_id == self.curr_target:\n",
    "            return\n",
    "\n",
    "    def sensory(self):\n",
    "        \"\"\"\n",
    "        set up the next main diffusion direction based on the location of the step food\n",
    "        \"\"\"\n",
    "        # target_food = self.mould.get_current_target()\n",
    "        # food_idx = target_food[1]\n",
    "        if self.reached_food_id == self.step_food:\n",
    "            self.reset_step_food()\n",
    "        food_idx = self.step_food[1]\n",
    "\n",
    "        # (-1, -1)\n",
    "        if food_idx[0] < self.idx[0] and food_idx[1] < self.idx[1]:\n",
    "            self.direction = 1\n",
    "        # (1, -1)\n",
    "        elif food_idx[0] > self.idx[0] and food_idx[1] < self.idx[1]:\n",
    "            self.direction = 2\n",
    "        # (-1, 1)\n",
    "        elif food_idx[0] < self.idx[0] and food_idx[1] > self.idx[1]:\n",
    "            self.direction = 3\n",
    "        # (1, 1)\n",
    "        elif food_idx[0] > self.idx[0] and food_idx[1] > self.idx[1]:\n",
    "            self.direction = 4\n",
    "        # (-1, 0)\n",
    "        elif food_idx[0] < self.idx[0]:\n",
    "            self.direction = 5\n",
    "        # (1, 0)\n",
    "        elif food_idx[0] > self.idx[0]:\n",
    "            self.direction = 6\n",
    "        # (0, -1)\n",
    "        elif food_idx[1] < self.idx[1]:\n",
    "            self.direction = 7\n",
    "        # (0, 1)\n",
    "        elif food_idx[1] > self.idx[1]:\n",
    "            self.direction = 8\n",
    "\n",
    "    @staticmethod\n",
    "    def check_boundary(idx, lattice_shape):\n",
    "        \"\"\"\n",
    "        check if the neighbour cell reached the boundary of the lattice\n",
    "        :param idx: the location of the neighbour cell\n",
    "        :param lattice_shape: the shape of the lattice\n",
    "        :return: false if reach boundary, else true\n",
    "        \"\"\"\n",
    "        if idx[0] >= lattice_shape[0] or idx[0] <= 0 or idx[1] >= lattice_shape[1] or idx[1] <= 0:\n",
    "            return False\n",
    "        return True\n",
    "\n",
    "    # diffusion\n",
    "    def diffusion(self, lattice, decay):\n",
    "        \"\"\"\n",
    "        the slime cell will check all the 8 neighbours and perform diffusion based on conditions\n",
    "        1. perform diffusion on the next main diffusion direction first\n",
    "        2. perform diffusion on the rest cells if not reach DIFFUSION THRESHOLD\n",
    "        3. Take different diffusion strategies when the neighbour cell is empty, slime, food, boundary\n",
    "        4. the pheromone of the slime cell will decrease after the diffusion is performed each time.\n",
    "        :param lattice: dish lattice\n",
    "        :param decay: the rate for decreasing the pheromone of the slime cell\n",
    "        \"\"\"\n",
    "        new_idx = step_direction(self.direction, self.idx)\n",
    "        neighbours = get_neighbours(self.idx)\n",
    "\n",
    "        # make sure the first neighbour is the next step\n",
    "        neighbours.remove(new_idx)\n",
    "        neighbours = deque(neighbours)\n",
    "        neighbours.appendleft(new_idx)\n",
    "\n",
    "        while neighbours:\n",
    "            neigh = neighbours.popleft()\n",
    "            # continue if the neighbor is out of boundary\n",
    "            if not self.check_boundary(neigh, lattice.shape):\n",
    "                continue\n",
    "            neigh_cell = lattice[neigh]\n",
    "            # neighbour cell is an empty cell\n",
    "            if neigh_cell.get_cell_type() == 0:\n",
    "\n",
    "                # next main diffusion place is an empty cell\n",
    "                if neigh == new_idx and self.pheromone > MOVING_THRESHOLD:\n",
    "                    # self.mould.update_slime_cell(new_idx, self)\n",
    "                    self.mould.slime_cell_generator(idx=neigh, pheromone=self.pheromone, decay=decay,\n",
    "                                                    is_capital=self.is_capital)\n",
    "                    self.pheromone *= (1 - DIFFUSION_DECAY_RATE * decay)\n",
    "\n",
    "                    self.is_capital = False\n",
    "                    continue\n",
    "\n",
    "                # neighbour cell is a random diffusion cell\n",
    "                if self.pheromone > DIFFUSION_THRESHOLD and \\\n",
    "                        self.find_nearest_food(self.mould.get_reached_food_ids())[1] < DISTANCE_FOR_DIFFUSION_THRESHOLD:\n",
    "                    self.mould.slime_cell_generator(idx=neigh, pheromone=self.pheromone/DIFFUSION_DECAY_RATE, decay=decay)\n",
    "                    self.pheromone *= (1 - (2 * DIFFUSION_DECAY_RATE * decay))\n",
    "\n",
    "            # neighbor is a slime\n",
    "            elif neigh_cell.get_cell_type() == 1:\n",
    "\n",
    "                # next main diffusion place is a slime cell\n",
    "                if neigh == new_idx and self.pheromone > MOVING_THRESHOLD:\n",
    "                    neigh_increase_ph = neigh_cell.pheromone + self.pheromone / DIFFUSION_DECAY_RATE\n",
    "                    if neigh_increase_ph > neigh_cell.max_ph:\n",
    "\n",
    "                        neigh_cell.pheromone = neigh_cell.max_ph\n",
    "\n",
    "                    else:\n",
    "                        neigh_cell.pheromone = neigh_increase_ph\n",
    "                    self.pheromone /= DIFFUSION_DECAY_RATE\n",
    "\n",
    "                    self.mould.update_slime_cell(new_idx, neigh_cell)\n",
    "\n",
    "                # neighbor bigger than self\n",
    "                # increase self-pheromone when find neighbor nearby\n",
    "                if neigh_cell.pheromone > self.pheromone and self.max_ph < MAX_PH:\n",
    "                    self.max_ph += MAX_PH_INCREASE_STEP\n",
    "                    self.pheromone += (neigh_cell.pheromone / 10)\n",
    "\n",
    "            # add pheromone if current cell find food nearby\n",
    "            elif neigh_cell.get_cell_type() == 2:\n",
    "\n",
    "                # eat food\n",
    "                self.pheromone = 7\n",
    "                self.max_ph = 7\n",
    "                self.reached_food_id = neigh_cell.get_food_id()\n",
    "                new_food_id = neigh_cell.get_food_id()\n",
    "                if new_food_id not in self.mould.get_reached_food_ids():\n",
    "                    self.mould.update_food_connection(new_food_id)\n",
    "                    self.mould.get_reached_food_ids().add(new_food_id)\n",
    "\n",
    "        self.mould.update_slime_cell(self.idx, self)\n",
    "\n",
    "    def step(self, lattice, decay):\n",
    "        \"\"\"\n",
    "        The sensory stage: all slime cells adjust their direction based on the food\n",
    "        The diffusion stage: all pheromones undergo diffusion\n",
    "        \"\"\"\n",
    "        self.sensory()\n",
    "        self.diffusion(lattice, decay)\n",
    "\n",
    "    def get_idx(self):\n",
    "        return self.idx\n",
    "\n",
    "    def get_pheromone(self):\n",
    "        return self.pheromone\n",
    "\n",
    "    def set_pheromone(self, ph):\n",
    "        self.pheromone = ph\n",
    "\n",
    "    def get_reached_food_id(self):\n",
    "        return self.reached_food_id\n",
    "\n",
    "    def remove_capital(self):\n",
    "        self.is_capital = False\n"
   ]
  },
  {
   "cell_type": "markdown",
   "metadata": {},
   "source": [
    "### Mould"
   ]
  },
  {
   "cell_type": "code",
   "execution_count": 6,
   "metadata": {},
   "outputs": [],
   "source": [
    "TARGET_SWITCH_THRESHOLD = 5\n",
    "\n",
    "\n",
    "def get_corner_slime_cells(slime_cells, current_direction, direction_list=None):\n",
    "    \"\"\"\n",
    "    get the slime cell in the corner of the mould for deciding the next target food\n",
    "    :return: the slime cell in the selected corner\n",
    "    \"\"\"\n",
    "    slime_idx = slime_cells.keys()\n",
    "    curr_capital_slime = None\n",
    "    if current_direction == 0:\n",
    "        curr_capital_slime = slime_cells[min(slime_idx)]\n",
    "    elif current_direction == 1:\n",
    "        max_x = max([x for x, y in slime_idx])\n",
    "        for x, y in slime_idx:\n",
    "            if x == max_x:\n",
    "                curr_capital_slime = slime_cells[(x, y)]\n",
    "                break\n",
    "    elif current_direction == 2:\n",
    "        min_y = min([y for x, y in slime_idx])\n",
    "        for x, y in slime_idx:\n",
    "            if y == min_y:\n",
    "                curr_capital_slime = slime_cells[(x, y)]\n",
    "                break\n",
    "    elif current_direction == 3:\n",
    "        curr_capital_slime = slime_cells[max(slime_idx)]\n",
    "    if curr_capital_slime.get_reached_food_id() is not None:\n",
    "        if direction_list is not None:\n",
    "            direction_list.remove(current_direction)\n",
    "        else:\n",
    "            direction_list = [0, 1, 2, 3]\n",
    "        get_corner_slime_cells(slime_cells, random.choice(direction_list))\n",
    "    return curr_capital_slime\n",
    "\n",
    "\n",
    "class Mould:\n",
    "    def __init__(self, dish, start_loc, mould_shape, init_mould_coverage, decay):\n",
    "        self.dish = dish\n",
    "        self.decay = decay\n",
    "        self.slime_cells = {}\n",
    "        self.mould_shape = mould_shape\n",
    "        self.reached_food_ids = set()\n",
    "        self.current_target = 0\n",
    "        self.nearest_connected_target = -1\n",
    "        self.capital_slime = None\n",
    "        self.initialise(start_loc, mould_shape, init_mould_coverage)\n",
    "\n",
    "        self.avg_ph = []\n",
    "        self.total_num = []\n",
    "        self.total_active_num = []\n",
    "        self.total_inactive_num = []\n",
    "        self.total_reached_foods = []\n",
    "        self.coverage_ratio = []\n",
    "\n",
    "        self.target_switch_count = 0\n",
    "\n",
    "    def initialise(self, start_loc, mould_shape, init_mould_coverage):\n",
    "        max_x, max_y = self.dish.lattice.shape\n",
    "        if not (0 <= start_loc[0] < max_x and 0 <= start_loc[1] < max_y):\n",
    "            raise ValueError(\"Starting location is out of lattice bounds.\")\n",
    "\n",
    "        x_start, y_start = start_loc\n",
    "        x_range = range(max(x_start - mould_shape[0], 0), min(x_start + mould_shape[0] + 1, max_x))\n",
    "        y_range = range(max(y_start - mould_shape[1], 0), min(y_start + mould_shape[1] + 1, max_y))\n",
    "\n",
    "        for x in x_range:\n",
    "            for y in y_range:\n",
    "                if random.random() < init_mould_coverage:\n",
    "                    self.slime_cell_generator(idx=(x, y))\n",
    "\n",
    "        self.setup_capital_slime()\n",
    "        self.update_target_food()\n",
    "\n",
    "    def remove_slime_cell(self, idx):\n",
    "        \"\"\"\n",
    "        remove the slime cell in the lattice\n",
    "        :param idx: the tuple index of the slime cell\n",
    "        \"\"\"\n",
    "        self.dish.set_lattice(idx, Cell())\n",
    "        del self.slime_cells[idx]\n",
    "\n",
    "    def update_slime_cell(self, idx, slime: SlimeCell):\n",
    "        \"\"\"\n",
    "        update the lattice when changes made by a slime cell\n",
    "        :param idx: the tuple index to be updated\n",
    "        :param slime: the slime cell to be updated\n",
    "        \"\"\"\n",
    "        if idx is None or slime is None:\n",
    "            return\n",
    "        self.slime_cells[idx] = slime\n",
    "        self.dish.set_lattice(idx, slime)\n",
    " \n",
    "\n",
    "    def setup_capital_slime(self):\n",
    "        if not self.slime_cells:\n",
    "            raise ValueError(\"No slime cells have been generated.\")\n",
    "\n",
    "        # Select a random slime cell as the capital\n",
    "        self.capital_slime = random.choice(list(self.slime_cells.values()))\n",
    "\n",
    "        # Update the selected capital slime\n",
    "        self.capital_slime.is_capital = True\n",
    "        self.update_slime_cell(self.capital_slime.get_idx(), self.capital_slime)\n",
    "\n",
    "    def slime_cell_generator(self, idx, pheromone=None, decay=0, is_capital=False):\n",
    "        \"\"\"\n",
    "        generate a slime cell\n",
    "        :param idx: the tuple index to generate a slime cell\n",
    "        :param pheromone: the pheromone value of the slime cell\n",
    "        :param decay: the decay rate of the slime cell\n",
    "        :param is_capital: set the next slime cell to be the capital slime if true\n",
    "        :return: the generated slime cell\n",
    "        \"\"\"\n",
    "        if pheromone is None:\n",
    "            pheromone = 4. * (1 - decay)\n",
    "        slime_cell = SlimeCell(idx=idx, pheromone=pheromone, mould=self, dish=self.dish, is_capital=is_capital)\n",
    "        if slime_cell.is_capital:\n",
    "            self.capital_slime = slime_cell\n",
    "        self.update_slime_cell(slime_cell.get_idx(), slime_cell)\n",
    "        return slime_cell\n",
    "\n",
    "    def find_nearest_connected_food(self, food_id):\n",
    "        \"\"\"\n",
    "        find the nearest connected food to the target food.\n",
    "        :param food_id: the id of the target food\n",
    "        :return: the nearest connected food to the target food\n",
    "        \"\"\"\n",
    "        min_dist = -1\n",
    "        min_i = -1\n",
    "        food_idx = self.dish.get_food_position(food_id)\n",
    "        for i in self.reached_food_ids:\n",
    "            if i == food_id:\n",
    "                continue\n",
    "            reachable_food_idx = self.dish.get_food_position(i)\n",
    "            dist = math.dist(food_idx, reachable_food_idx)\n",
    "            if min_dist > dist or min_dist == -1:\n",
    "                min_dist = dist\n",
    "                min_i = i\n",
    "        return min_i\n",
    "\n",
    "    def update_food_connection(self, food_id):\n",
    "        \"\"\"\n",
    "        update the connection of the food in the food graph\n",
    "        :param food_id: the id of the food to be connected\n",
    "        \"\"\"\n",
    "        if len(self.reached_food_ids) == 0:\n",
    "            return\n",
    "        self.nearest_connected_target = self.find_nearest_connected_food(food_id)\n",
    "        if not self.dish.get_food_graph().has_edge(food_id, self.nearest_connected_target):\n",
    "            self.dish.add_food_edge(food_id, self.nearest_connected_target)\n",
    "\n",
    "    def update_target_food(self):\n",
    "        \"\"\"\n",
    "        switch the target food\n",
    "        \"\"\"\n",
    "        # set a target food\n",
    "        remaining_food_ids = set(self.dish.get_all_foods().keys()) - self.reached_food_ids\n",
    "        min_i = self.capital_slime.find_nearest_food(remaining_food_ids)[0]\n",
    "        if min_i != self.current_target:\n",
    "            self.current_target = (min_i, self.dish.get_food_position(min_i))\n",
    "            # update the connection to the target food from reachable food\n",
    "            self.nearest_connected_target = self.find_nearest_connected_food(min_i)\n",
    "            # optional\n",
    "            self.update_food_connection(min_i)\n",
    "\n",
    "    def update_slime(self):\n",
    "        \"\"\"\n",
    "        update statistics of the mould and\n",
    "        update each slime after each evolution step of the mould\n",
    "        \"\"\"\n",
    "        # update statistics after each evolution\n",
    "        active_slime = [slime.pheromone for slime in list(self.slime_cells.values())\n",
    "                        if slime.pheromone > 1]\n",
    "        average_pheromone = np.average(active_slime)\n",
    "        self.avg_ph.append(average_pheromone)\n",
    "        self.total_num.append(len(self.slime_cells))\n",
    "        self.total_active_num.append(len(active_slime))\n",
    "        self.total_inactive_num.append(len(self.slime_cells) - len(active_slime))\n",
    "        self.total_reached_foods.append(len(self.reached_food_ids))\n",
    "        self.coverage_ratio.append(len(self.slime_cells)/self.dish.get_dish_size())\n",
    "\n",
    "        if self.target_switch_count > TARGET_SWITCH_THRESHOLD or \\\n",
    "                self.capital_slime.get_reached_food_id() is not None or self.current_target[0] in self.reached_food_ids:\n",
    "            self.target_switch_count = 0\n",
    "            self.setup_capital_slime()\n",
    "            self.update_target_food()\n",
    "\n",
    "    def evolve(self):\n",
    "        \"\"\"\n",
    "        the evolution step of the mould,\n",
    "        every slime cell in the mould will take a step during each evolution step\n",
    "        \"\"\"\n",
    "        previous_reached_foods = len(self.reached_food_ids)\n",
    "        slime_idx = list(self.slime_cells.keys())\n",
    "        for idx in slime_idx:\n",
    "            self.dish.get_lattice()[idx].step(self.dish.get_lattice(), self.decay)\n",
    "        if len(self.reached_food_ids) == previous_reached_foods:\n",
    "            self.target_switch_count += 1\n",
    "        self.update_slime()\n",
    "\n",
    "    def get_current_target(self):\n",
    "        # Ensure this returns a tuple, for example: (target_id, target_position)\n",
    "        return self.current_target\n",
    "\n",
    "    def get_reached_food_ids(self):\n",
    "        return self.reached_food_ids\n",
    "\n",
    "    def get_avg_ph(self):\n",
    "        return self.avg_ph\n",
    "\n",
    "    def get_total_num(self):\n",
    "        return self.total_num\n",
    "\n",
    "    def get_total_active_num(self):\n",
    "        return self.total_active_num\n",
    "\n",
    "    def get_total_inactive_num(self):\n",
    "        return self.total_inactive_num\n",
    "\n",
    "    def get_coverage_ratio(self):\n",
    "        return self.coverage_ratio\n",
    "\n",
    "    def get_total_reached_foods(self):\n",
    "        return self.total_reached_foods\n",
    "\n",
    "    def get_nearest_connected_target(self):\n",
    "        return self.nearest_connected_target\n"
   ]
  },
  {
   "cell_type": "markdown",
   "metadata": {},
   "source": [
    "### Dish"
   ]
  },
  {
   "cell_type": "code",
   "execution_count": 9,
   "metadata": {},
   "outputs": [],
   "source": [
    "class Dish:\n",
    "    def __init__(self, polygon_file, city_file, start_loc, mould_shape, init_mould_coverage, decay):\n",
    "        # Load GeoJSON data into GeoDataFrames\n",
    "        self.polygon = gpd.read_file(polygon_file)\n",
    "        self.cities = gpd.read_file(city_file)\n",
    "\n",
    "        # Determine grid bounds and scale\n",
    "        x_min, y_min, x_max, y_max = self.polygon.geometry.total_bounds\n",
    "        scale_factor = 100  # Adjust based on desired grid resolution\n",
    "\n",
    "        # Transform city coordinates to grid indices\n",
    "        self.transformed_cities = self.transform_coordinates(self.cities, x_min, y_min, scale_factor)\n",
    "\n",
    "        # Initialize other attributes as needed\n",
    "        self.start_loc = start_loc\n",
    "        self.mould_shape = mould_shape\n",
    "        self.init_mould_coverage = init_mould_coverage\n",
    "        self.decay = decay\n",
    "\n",
    "        # Initialize the lattice\n",
    "        self.lattice = self.initialise_dish()\n",
    "\n",
    "    def transform_coordinates(self, gdf, x_min, y_min, scale_factor):\n",
    "        transformed_points = []\n",
    "        for geom in gdf.geometry:\n",
    "            x = int((geom.x - x_min) * scale_factor)\n",
    "            y = int((geom.y - y_min) * scale_factor)\n",
    "            transformed_points.append(Point(x, y))\n",
    "        return transformed_points\n",
    "\n",
    "    def initialise_dish(self):\n",
    "        # Determine the size of the lattice based on the maximum transformed coordinates\n",
    "        max_x = max(point.x for point in self.transformed_cities)\n",
    "        max_y = max(point.y for point in self.transformed_cities)\n",
    "        dish_shape = (max_x + 1, max_y + 1)\n",
    "\n",
    "        # Initialize the lattice with zeros\n",
    "        lattice = np.zeros(dish_shape, dtype=int)\n",
    "        return lattice\n",
    "  \n",
    "    def initialise_food(self, transformed_cities):\n",
    "        self.all_foods = {}  # Initialize the dictionary\n",
    "\n",
    "        for city_id, (x, y) in transformed_cities.items():\n",
    "            # Assuming x and y are already transformed and fit within the dish lattice\n",
    "            food_cell = FoodCell(food_id=city_id, food_idx=(x, y))\n",
    "            if self.lattice[x, y] is not None:\n",
    "                self.lattice[x, y] = food_cell\n",
    "                self.all_foods[city_id] = food_cell  # Adding the food cell to the all_foods dictionary\n",
    "    def plot(self):\n",
    "        # Plotting\n",
    "        fig, ax = plt.subplots(figsize=(10, 10))\n",
    "        self.polygon.plot(ax=ax, color='lightblue', edgecolor='black')  # Plot polygons\n",
    "        gdf_cities = gpd.GeoDataFrame(geometry=self.transformed_cities)\n",
    "        gdf_cities.plot(ax=ax, color='red', markersize=5)  # Plot points\n",
    "        plt.show()\n",
    "                \n",
    "    @staticmethod\n",
    "    def initialise_slime_mould(dish, start_loc, mould_shape, init_mould_coverage, decay):\n",
    "        \"\"\"\n",
    "        initialise the mould\n",
    "        \"\"\"\n",
    "        return Mould(dish, start_loc, mould_shape, init_mould_coverage, decay)\n",
    "\n",
    "    @staticmethod\n",
    "    def pheromones(lattice):\n",
    "        \"\"\"\n",
    "        Returns a lattice of just the pheromones to draw the graph\n",
    "        \"\"\"\n",
    "        pheromones = np.zeros_like(lattice, dtype=float)\n",
    "        for i in np.ndindex(lattice.shape):\n",
    "            cell = lattice[i]\n",
    "            if cell is not None:  # Check if the cell is not None\n",
    "                pheromones[i] = cell.pheromone\n",
    "        return pheromones\n",
    "\n",
    "    def draw_pheromones(self, cmap='YlOrRd'):\n",
    "        \"\"\"Draws the cells.\"\"\"\n",
    "        data = self.pheromones(self.lattice)\n",
    "        data = data.T  # Transpose for correct orientation\n",
    "\n",
    "        return plt.imshow(data, cmap=cmap, vmin=0, vmax=10,\n",
    "                          interpolation='none', origin='lower',\n",
    "                          extent=[0, data.shape[1], 0, data.shape[0]])\n",
    "    def animate(self, frames=10, interval=200, filename=None):\n",
    "        \"\"\"\n",
    "        Returns an animation\n",
    "        \"\"\"\n",
    "        fig = plt.figure(figsize=(6.3, 5))\n",
    "\n",
    "        im = self.draw_pheromones()\n",
    "        plt.axis('tight')\n",
    "        plt.axis('image')\n",
    "        plt.tick_params(which='both',\n",
    "                        bottom=False,\n",
    "                        top=False,\n",
    "                        left=False,\n",
    "                        right=False,\n",
    "                        labelbottom=False,\n",
    "                        labelleft=False)\n",
    "\n",
    "        def func(frame):\n",
    "            self.mould.evolve()\n",
    "            im.set_data(self.pheromones(self.lattice).T)\n",
    "            return [im]\n",
    "\n",
    "        ani = FuncAnimation(fig, func, frames=frames, blit=True, interval=interval)\n",
    "        fps = 1 / (interval / 1000)\n",
    "        filename is not None and ani.save(filename, dpi=150, writer=PillowWriter(fps=fps))\n",
    "        return ani\n",
    "\n",
    "    def get_all_foods_idx(self):\n",
    "        return [(x, y) for x, y in self.food_graph.nodes]\n",
    "    \n",
    "    def get_all_foods(self):\n",
    "        \"\"\"\n",
    "        Returns a dictionary of all food cells.\n",
    "        \"\"\"\n",
    "        return self.all_foods\n",
    "\n",
    "\n",
    "    def get_lattice(self):\n",
    "        return self.lattice\n",
    "\n",
    "    def set_lattice(self, idx, obj):\n",
    "        self.lattice[idx] = obj\n",
    "\n",
    "    def get_food_graph(self):\n",
    "        return self.food_graph"
   ]
  },
  {
   "cell_type": "code",
   "execution_count": 11,
   "metadata": {},
   "outputs": [
    {
     "ename": "TypeError",
     "evalue": "'numpy.float64' object cannot be interpreted as an integer",
     "output_type": "error",
     "traceback": [
      "\u001b[0;31m---------------------------------------------------------------------------\u001b[0m",
      "\u001b[0;31mTypeError\u001b[0m                                 Traceback (most recent call last)",
      "Cell \u001b[0;32mIn[11], line 1\u001b[0m\n\u001b[0;32m----> 1\u001b[0m dish \u001b[38;5;241m=\u001b[39m \u001b[43mDish\u001b[49m\u001b[43m(\u001b[49m\u001b[38;5;124;43m'\u001b[39;49m\u001b[38;5;124;43mmorocco.geo.json\u001b[39;49m\u001b[38;5;124;43m'\u001b[39;49m\u001b[43m,\u001b[49m\u001b[43m \u001b[49m\u001b[38;5;124;43m'\u001b[39;49m\u001b[38;5;124;43mmoroccocities.geojson\u001b[39;49m\u001b[38;5;124;43m'\u001b[39;49m\u001b[43m,\u001b[49m\u001b[43m \u001b[49m\u001b[43mstart_loc\u001b[49m\u001b[43m,\u001b[49m\u001b[43m \u001b[49m\u001b[43mmould_shape\u001b[49m\u001b[43m,\u001b[49m\u001b[43m \u001b[49m\u001b[43minit_mould_coverage\u001b[49m\u001b[43m,\u001b[49m\u001b[43m \u001b[49m\u001b[43mdecay\u001b[49m\u001b[43m)\u001b[49m\n",
      "Cell \u001b[0;32mIn[9], line 21\u001b[0m, in \u001b[0;36mDish.__init__\u001b[0;34m(self, polygon_file, city_file, start_loc, mould_shape, init_mould_coverage, decay)\u001b[0m\n\u001b[1;32m     18\u001b[0m \u001b[38;5;28mself\u001b[39m\u001b[38;5;241m.\u001b[39mdecay \u001b[38;5;241m=\u001b[39m decay\n\u001b[1;32m     20\u001b[0m \u001b[38;5;66;03m# Initialize the lattice\u001b[39;00m\n\u001b[0;32m---> 21\u001b[0m \u001b[38;5;28mself\u001b[39m\u001b[38;5;241m.\u001b[39mlattice \u001b[38;5;241m=\u001b[39m \u001b[38;5;28;43mself\u001b[39;49m\u001b[38;5;241;43m.\u001b[39;49m\u001b[43minitialise_dish\u001b[49m\u001b[43m(\u001b[49m\u001b[43m)\u001b[49m\n",
      "Cell \u001b[0;32mIn[9], line 38\u001b[0m, in \u001b[0;36mDish.initialise_dish\u001b[0;34m(self)\u001b[0m\n\u001b[1;32m     35\u001b[0m dish_shape \u001b[38;5;241m=\u001b[39m (max_x \u001b[38;5;241m+\u001b[39m \u001b[38;5;241m1\u001b[39m, max_y \u001b[38;5;241m+\u001b[39m \u001b[38;5;241m1\u001b[39m)\n\u001b[1;32m     37\u001b[0m \u001b[38;5;66;03m# Initialize the lattice with zeros\u001b[39;00m\n\u001b[0;32m---> 38\u001b[0m lattice \u001b[38;5;241m=\u001b[39m \u001b[43mnp\u001b[49m\u001b[38;5;241;43m.\u001b[39;49m\u001b[43mzeros\u001b[49m\u001b[43m(\u001b[49m\u001b[43mdish_shape\u001b[49m\u001b[43m,\u001b[49m\u001b[43m \u001b[49m\u001b[43mdtype\u001b[49m\u001b[38;5;241;43m=\u001b[39;49m\u001b[38;5;28;43mint\u001b[39;49m\u001b[43m)\u001b[49m\n\u001b[1;32m     39\u001b[0m \u001b[38;5;28;01mreturn\u001b[39;00m lattice\n",
      "\u001b[0;31mTypeError\u001b[0m: 'numpy.float64' object cannot be interpreted as an integer"
     ]
    }
   ],
   "source": [
    "dish = Dish('morocco.geo.json', 'moroccocities.geojson', start_loc, mould_shape, init_mould_coverage, decay)"
   ]
  },
  {
   "cell_type": "markdown",
   "metadata": {},
   "source": [
    "### Intialise Dish"
   ]
  },
  {
   "cell_type": "code",
   "execution_count": 12,
   "metadata": {
    "pycharm": {
     "is_executing": true
    },
    "scrolled": false
   },
   "outputs": [
    {
     "name": "stdout",
     "output_type": "stream",
     "text": [
      "Max transformed x: 1509.1502891540092 Max transformed y: 1414.846248339165\n"
     ]
    },
    {
     "ename": "AttributeError",
     "evalue": "'Polygon' object has no attribute 'startswith'",
     "output_type": "error",
     "traceback": [
      "\u001b[0;31m---------------------------------------------------------------------------\u001b[0m",
      "\u001b[0;31mAttributeError\u001b[0m                            Traceback (most recent call last)",
      "Cell \u001b[0;32mIn[12], line 43\u001b[0m\n\u001b[1;32m     40\u001b[0m decay \u001b[38;5;241m=\u001b[39m \u001b[38;5;241m0.00001\u001b[39m  \u001b[38;5;66;03m# Decay rate for the simulation\u001b[39;00m\n\u001b[1;32m     42\u001b[0m \u001b[38;5;66;03m# Initialize the Dish with the polygon and transformed city coordinates\u001b[39;00m\n\u001b[0;32m---> 43\u001b[0m dish \u001b[38;5;241m=\u001b[39m \u001b[43mDish\u001b[49m\u001b[43m(\u001b[49m\u001b[43mpolygon\u001b[49m\u001b[43m,\u001b[49m\u001b[43m \u001b[49m\u001b[43mtransformed_cities\u001b[49m\u001b[43m,\u001b[49m\u001b[43m \u001b[49m\u001b[43mstart_loc\u001b[49m\u001b[43m,\u001b[49m\u001b[43m \u001b[49m\u001b[43mmould_shape\u001b[49m\u001b[43m,\u001b[49m\u001b[43m \u001b[49m\u001b[43minit_mould_coverage\u001b[49m\u001b[43m,\u001b[49m\u001b[43m \u001b[49m\u001b[43mdecay\u001b[49m\u001b[43m)\u001b[49m\n",
      "Cell \u001b[0;32mIn[9], line 4\u001b[0m, in \u001b[0;36mDish.__init__\u001b[0;34m(self, polygon_file, city_file, start_loc, mould_shape, init_mould_coverage, decay)\u001b[0m\n\u001b[1;32m      2\u001b[0m \u001b[38;5;28;01mdef\u001b[39;00m \u001b[38;5;21m__init__\u001b[39m(\u001b[38;5;28mself\u001b[39m, polygon_file, city_file, start_loc, mould_shape, init_mould_coverage, decay):\n\u001b[1;32m      3\u001b[0m     \u001b[38;5;66;03m# Load GeoJSON data into GeoDataFrames\u001b[39;00m\n\u001b[0;32m----> 4\u001b[0m     \u001b[38;5;28mself\u001b[39m\u001b[38;5;241m.\u001b[39mpolygon \u001b[38;5;241m=\u001b[39m \u001b[43mgpd\u001b[49m\u001b[38;5;241;43m.\u001b[39;49m\u001b[43mread_file\u001b[49m\u001b[43m(\u001b[49m\u001b[43mpolygon_file\u001b[49m\u001b[43m)\u001b[49m\n\u001b[1;32m      5\u001b[0m     \u001b[38;5;28mself\u001b[39m\u001b[38;5;241m.\u001b[39mcities \u001b[38;5;241m=\u001b[39m gpd\u001b[38;5;241m.\u001b[39mread_file(city_file)\n\u001b[1;32m      7\u001b[0m     \u001b[38;5;66;03m# Determine grid bounds and scale\u001b[39;00m\n",
      "File \u001b[0;32m~/anaconda3/lib/python3.10/site-packages/geopandas/io/file.py:297\u001b[0m, in \u001b[0;36m_read_file\u001b[0;34m(filename, bbox, mask, rows, engine, **kwargs)\u001b[0m\n\u001b[1;32m    294\u001b[0m     \u001b[38;5;28;01melse\u001b[39;00m:\n\u001b[1;32m    295\u001b[0m         path_or_bytes \u001b[38;5;241m=\u001b[39m filename\n\u001b[0;32m--> 297\u001b[0m     \u001b[38;5;28;01mreturn\u001b[39;00m \u001b[43m_read_file_fiona\u001b[49m\u001b[43m(\u001b[49m\n\u001b[1;32m    298\u001b[0m \u001b[43m        \u001b[49m\u001b[43mpath_or_bytes\u001b[49m\u001b[43m,\u001b[49m\u001b[43m \u001b[49m\u001b[43mfrom_bytes\u001b[49m\u001b[43m,\u001b[49m\u001b[43m \u001b[49m\u001b[43mbbox\u001b[49m\u001b[38;5;241;43m=\u001b[39;49m\u001b[43mbbox\u001b[49m\u001b[43m,\u001b[49m\u001b[43m \u001b[49m\u001b[43mmask\u001b[49m\u001b[38;5;241;43m=\u001b[39;49m\u001b[43mmask\u001b[49m\u001b[43m,\u001b[49m\u001b[43m \u001b[49m\u001b[43mrows\u001b[49m\u001b[38;5;241;43m=\u001b[39;49m\u001b[43mrows\u001b[49m\u001b[43m,\u001b[49m\u001b[43m \u001b[49m\u001b[38;5;241;43m*\u001b[39;49m\u001b[38;5;241;43m*\u001b[39;49m\u001b[43mkwargs\u001b[49m\n\u001b[1;32m    299\u001b[0m \u001b[43m    \u001b[49m\u001b[43m)\u001b[49m\n\u001b[1;32m    301\u001b[0m \u001b[38;5;28;01melse\u001b[39;00m:\n\u001b[1;32m    302\u001b[0m     \u001b[38;5;28;01mraise\u001b[39;00m \u001b[38;5;167;01mValueError\u001b[39;00m(\u001b[38;5;124mf\u001b[39m\u001b[38;5;124m\"\u001b[39m\u001b[38;5;124munknown engine \u001b[39m\u001b[38;5;124m'\u001b[39m\u001b[38;5;132;01m{\u001b[39;00mengine\u001b[38;5;132;01m}\u001b[39;00m\u001b[38;5;124m'\u001b[39m\u001b[38;5;124m\"\u001b[39m)\n",
      "File \u001b[0;32m~/anaconda3/lib/python3.10/site-packages/geopandas/io/file.py:338\u001b[0m, in \u001b[0;36m_read_file_fiona\u001b[0;34m(path_or_bytes, from_bytes, bbox, mask, rows, where, **kwargs)\u001b[0m\n\u001b[1;32m    335\u001b[0m     reader \u001b[38;5;241m=\u001b[39m fiona\u001b[38;5;241m.\u001b[39mopen\n\u001b[1;32m    337\u001b[0m \u001b[38;5;28;01mwith\u001b[39;00m fiona_env():\n\u001b[0;32m--> 338\u001b[0m     \u001b[38;5;28;01mwith\u001b[39;00m \u001b[43mreader\u001b[49m\u001b[43m(\u001b[49m\u001b[43mpath_or_bytes\u001b[49m\u001b[43m,\u001b[49m\u001b[43m \u001b[49m\u001b[38;5;241;43m*\u001b[39;49m\u001b[38;5;241;43m*\u001b[39;49m\u001b[43mkwargs\u001b[49m\u001b[43m)\u001b[49m \u001b[38;5;28;01mas\u001b[39;00m features:\n\u001b[1;32m    339\u001b[0m         crs \u001b[38;5;241m=\u001b[39m features\u001b[38;5;241m.\u001b[39mcrs_wkt\n\u001b[1;32m    340\u001b[0m         \u001b[38;5;66;03m# attempt to get EPSG code\u001b[39;00m\n",
      "File \u001b[0;32m~/anaconda3/lib/python3.10/site-packages/fiona/env.py:457\u001b[0m, in \u001b[0;36mensure_env_with_credentials.<locals>.wrapper\u001b[0;34m(*args, **kwds)\u001b[0m\n\u001b[1;32m    454\u001b[0m     session \u001b[38;5;241m=\u001b[39m DummySession()\n\u001b[1;32m    456\u001b[0m \u001b[38;5;28;01mwith\u001b[39;00m env_ctor(session\u001b[38;5;241m=\u001b[39msession):\n\u001b[0;32m--> 457\u001b[0m     \u001b[38;5;28;01mreturn\u001b[39;00m \u001b[43mf\u001b[49m\u001b[43m(\u001b[49m\u001b[38;5;241;43m*\u001b[39;49m\u001b[43margs\u001b[49m\u001b[43m,\u001b[49m\u001b[43m \u001b[49m\u001b[38;5;241;43m*\u001b[39;49m\u001b[38;5;241;43m*\u001b[39;49m\u001b[43mkwds\u001b[49m\u001b[43m)\u001b[49m\n",
      "File \u001b[0;32m~/anaconda3/lib/python3.10/site-packages/fiona/__init__.py:289\u001b[0m, in \u001b[0;36mopen\u001b[0;34m(fp, mode, driver, schema, crs, encoding, layer, vfs, enabled_drivers, crs_wkt, allow_unsupported_drivers, **kwargs)\u001b[0m\n\u001b[1;32m    287\u001b[0m     path \u001b[38;5;241m=\u001b[39m ParsedPath(path, archive, scheme)\n\u001b[1;32m    288\u001b[0m \u001b[38;5;28;01melse\u001b[39;00m:\n\u001b[0;32m--> 289\u001b[0m     path \u001b[38;5;241m=\u001b[39m \u001b[43mparse_path\u001b[49m\u001b[43m(\u001b[49m\u001b[43mfp\u001b[49m\u001b[43m)\u001b[49m\n\u001b[1;32m    291\u001b[0m \u001b[38;5;28;01mif\u001b[39;00m mode \u001b[38;5;129;01min\u001b[39;00m (\u001b[38;5;124m\"\u001b[39m\u001b[38;5;124ma\u001b[39m\u001b[38;5;124m\"\u001b[39m, \u001b[38;5;124m\"\u001b[39m\u001b[38;5;124mr\u001b[39m\u001b[38;5;124m\"\u001b[39m):\n\u001b[1;32m    292\u001b[0m     colxn \u001b[38;5;241m=\u001b[39m Collection(\n\u001b[1;32m    293\u001b[0m         path,\n\u001b[1;32m    294\u001b[0m         mode,\n\u001b[0;32m   (...)\u001b[0m\n\u001b[1;32m    300\u001b[0m         \u001b[38;5;241m*\u001b[39m\u001b[38;5;241m*\u001b[39mkwargs\n\u001b[1;32m    301\u001b[0m     )\n",
      "File \u001b[0;32m~/anaconda3/lib/python3.10/site-packages/fiona/path.py:136\u001b[0m, in \u001b[0;36mparse_path\u001b[0;34m(path)\u001b[0m\n\u001b[1;32m    133\u001b[0m \u001b[38;5;28;01melif\u001b[39;00m sys\u001b[38;5;241m.\u001b[39mplatform \u001b[38;5;241m==\u001b[39m \u001b[38;5;124m\"\u001b[39m\u001b[38;5;124mwin32\u001b[39m\u001b[38;5;124m\"\u001b[39m \u001b[38;5;129;01mand\u001b[39;00m re\u001b[38;5;241m.\u001b[39mmatch(\u001b[38;5;124m\"\u001b[39m\u001b[38;5;124m^[a-zA-Z]\u001b[39m\u001b[38;5;130;01m\\\\\u001b[39;00m\u001b[38;5;124m:\u001b[39m\u001b[38;5;124m\"\u001b[39m, path):\n\u001b[1;32m    134\u001b[0m     \u001b[38;5;28;01mreturn\u001b[39;00m UnparsedPath(path)\n\u001b[0;32m--> 136\u001b[0m \u001b[38;5;28;01melif\u001b[39;00m \u001b[43mpath\u001b[49m\u001b[38;5;241;43m.\u001b[39;49m\u001b[43mstartswith\u001b[49m(\u001b[38;5;124m'\u001b[39m\u001b[38;5;124m/vsi\u001b[39m\u001b[38;5;124m'\u001b[39m):\n\u001b[1;32m    137\u001b[0m     \u001b[38;5;28;01mreturn\u001b[39;00m UnparsedPath(path)\n\u001b[1;32m    139\u001b[0m \u001b[38;5;28;01melif\u001b[39;00m re\u001b[38;5;241m.\u001b[39mmatch(\u001b[38;5;124m\"\u001b[39m\u001b[38;5;124m^[a-z0-9\u001b[39m\u001b[38;5;130;01m\\\\\u001b[39;00m\u001b[38;5;124m+]*://\u001b[39m\u001b[38;5;124m\"\u001b[39m, path):\n",
      "\u001b[0;31mAttributeError\u001b[0m: 'Polygon' object has no attribute 'startswith'"
     ]
    }
   ],
   "source": [
    "# Load the polygon and cities from GeoJSON files\n",
    "gdf_polygon = gpd.read_file('morocco.geo.json')\n",
    "gdf_cities = gpd.read_file('moroccocities.geojson')\n",
    "\n",
    "# Determine grid bounds and scale\n",
    "x_min, y_min, x_max, y_max = gdf_polygon.geometry.total_bounds\n",
    "scale_factor = 100  # Adjust based on desired grid resolution\n",
    "\n",
    "# Initialize an empty GeoDataFrame to store transformed city points\n",
    "transformed_cities = gdf_cities.copy()\n",
    "\n",
    "# Transform geographic coordinates of cities to grid indices\n",
    "def transform_coordinates(geometry):\n",
    "    x = (geometry.x - x_min) * scale_factor\n",
    "    y = (geometry.y - y_min) * scale_factor\n",
    "    return Point(x, y)\n",
    "\n",
    "transformed_cities['geometry'] = transformed_cities['geometry'].apply(transform_coordinates)\n",
    "\n",
    "# Verify the max coordinates after transformation\n",
    "max_x = max(transformed_cities['geometry'].bounds['maxx'])\n",
    "max_y = max(transformed_cities['geometry'].bounds['maxy'])\n",
    "print(\"Max transformed x:\", max_x, \"Max transformed y:\", max_y)\n",
    "\n",
    "# Extract the polygon\n",
    "polygon = gdf_polygon.geometry.iloc[0]\n",
    "\n",
    "# Now both polygon and city coordinates are transformed consistently\n",
    "\n",
    "\n",
    "# Determine the start location for the mould (transformed centroid)\n",
    "centroid = polygon.centroid\n",
    "start_x = int((centroid.x - x_min) * scale_factor)\n",
    "start_y = int((centroid.y - y_min) * scale_factor)\n",
    "start_loc = (start_x, start_y)\n",
    "\n",
    "# Choose other parameters for the mould\n",
    "mould_shape = (10, 10)  # Size of the initial mould area\n",
    "init_mould_coverage = 0.5  # Initial coverage of the mould in its area\n",
    "decay = 0.00001  # Decay rate for the simulation\n",
    "\n",
    "# Initialize the Dish with the polygon and transformed city coordinates\n",
    "dish = Dish(polygon, transformed_cities, start_loc, mould_shape, init_mould_coverage, decay)"
   ]
  },
  {
   "cell_type": "markdown",
   "metadata": {},
   "source": [
    "### Visualize Dish"
   ]
  },
  {
   "cell_type": "code",
   "execution_count": 67,
   "metadata": {
    "scrolled": true
   },
   "outputs": [
    {
     "data": {
      "image/png": "[encoded data removed]",
      "text/plain": [
       "<Figure size 1000x1000 with 1 Axes>"
      ]
     },
     "metadata": {},
     "output_type": "display_data"
    }
   ],
   "source": [
    "def visualize_dish(dish):\n",
    "    fig, ax = plt.subplots(figsize=(10, 10))\n",
    "    \n",
    "    # Plot the polygon, if applicable\n",
    "    if hasattr(dish, 'polygon') and dish.polygon is not None:\n",
    "        x, y = dish.polygon.exterior.xy\n",
    "        ax.plot(x, y, color='black')\n",
    "\n",
    "    # Get bounds for the plot from the polygon\n",
    "    bounds = dish.polygon.bounds\n",
    "    ax.set_xlim(bounds[0], bounds[2])\n",
    "    ax.set_ylim(bounds[1], bounds[3])\n",
    "    \n",
    "    ax.set_aspect('equal')  # This will ensure that the aspect ratio is equal\n",
    "\n",
    "    # Iterate through the lattice and plot food and slime cells\n",
    "    for x in range(dish.lattice.shape[0]):\n",
    "        for y in range(dish.lattice.shape[1]):\n",
    "            cell = dish.lattice[x, y]\n",
    "            if cell is not None:\n",
    "                if isinstance(cell, FoodCell):\n",
    "                    ax.plot(x, y, 'go')  # green dot for food cells\n",
    "                elif isinstance(cell, SlimeCell):\n",
    "                    ax.plot(x, y, 'ro')  # red dot for slime cells\n",
    "\n",
    "    ax.set_title('Dish Visualization')\n",
    "    ax.set_xlabel('X Coordinate')\n",
    "    ax.set_ylabel('Y Coordinate')\n",
    "    plt.show()\n",
    "\n",
    "# Use the function to visualize the dish\n",
    "visualize_dish(dish)\n"
   ]
  },
  {
   "cell_type": "code",
   "execution_count": 31,
   "metadata": {},
   "outputs": [
    {
     "ename": "ValueError",
     "evalue": "too many values to unpack (expected 2)",
     "output_type": "error",
     "traceback": [
      "\u001b[0;31m---------------------------------------------------------------------------\u001b[0m",
      "\u001b[0;31mValueError\u001b[0m                                Traceback (most recent call last)",
      "Cell \u001b[0;32mIn[31], line 15\u001b[0m\n\u001b[1;32m     12\u001b[0m     plt\u001b[38;5;241m.\u001b[39mshow()\n\u001b[1;32m     14\u001b[0m \u001b[38;5;66;03m# Use the function to visualize the transformed cities\u001b[39;00m\n\u001b[0;32m---> 15\u001b[0m \u001b[43mvisualize_transformed_cities\u001b[49m\u001b[43m(\u001b[49m\u001b[43mtransformed_cities\u001b[49m\u001b[43m)\u001b[49m\n",
      "Cell \u001b[0;32mIn[31], line 5\u001b[0m, in \u001b[0;36mvisualize_transformed_cities\u001b[0;34m(transformed_cities)\u001b[0m\n\u001b[1;32m      2\u001b[0m fig, ax \u001b[38;5;241m=\u001b[39m plt\u001b[38;5;241m.\u001b[39msubplots(figsize\u001b[38;5;241m=\u001b[39m(\u001b[38;5;241m10\u001b[39m, \u001b[38;5;241m10\u001b[39m))\n\u001b[1;32m      4\u001b[0m \u001b[38;5;66;03m# Plot the cities using the transformed coordinates\u001b[39;00m\n\u001b[0;32m----> 5\u001b[0m \u001b[38;5;28;01mfor\u001b[39;00m city_id, (x, y) \u001b[38;5;129;01min\u001b[39;00m transformed_cities\u001b[38;5;241m.\u001b[39mitems():\n\u001b[1;32m      6\u001b[0m     ax\u001b[38;5;241m.\u001b[39mplot(x, y, \u001b[38;5;124m'\u001b[39m\u001b[38;5;124mbo\u001b[39m\u001b[38;5;124m'\u001b[39m)  \u001b[38;5;66;03m# blue dot for cities\u001b[39;00m\n\u001b[1;32m      8\u001b[0m ax\u001b[38;5;241m.\u001b[39mset_title(\u001b[38;5;124m'\u001b[39m\u001b[38;5;124mTransformed Cities Visualization\u001b[39m\u001b[38;5;124m'\u001b[39m)\n",
      "\u001b[0;31mValueError\u001b[0m: too many values to unpack (expected 2)"
     ]
    },
    {
     "data": {
      "image/png": "[encoded data removed]",
      "text/plain": [
       "<Figure size 1000x1000 with 1 Axes>"
      ]
     },
     "metadata": {},
     "output_type": "display_data"
    }
   ],
   "source": [
    "def visualize_transformed_cities(transformed_cities):\n",
    "    fig, ax = plt.subplots(figsize=(10, 10))\n",
    "    \n",
    "    # Plot the cities using the transformed coordinates\n",
    "    for city_id, (x, y) in transformed_cities.items():\n",
    "        ax.plot(x, y, 'bo')  # blue dot for cities\n",
    "\n",
    "    ax.set_title('Transformed Cities Visualization')\n",
    "    ax.set_xlabel('X Coordinate')\n",
    "    ax.set_ylabel('Y Coordinate')\n",
    "    ax.grid(True)\n",
    "    plt.show()\n",
    "\n",
    "# Use the function to visualize the transformed cities\n",
    "visualize_transformed_cities(transformed_cities)\n"
   ]
  },
  {
   "cell_type": "markdown",
   "metadata": {},
   "source": [
    "### Test animation"
   ]
  },
  {
   "cell_type": "code",
   "execution_count": 56,
   "metadata": {},
   "outputs": [
    {
     "ename": "TypeError",
     "evalue": "'NoneType' object is not subscriptable",
     "output_type": "error",
     "traceback": [
      "\u001b[0;31m---------------------------------------------------------------------------\u001b[0m",
      "\u001b[0;31mTypeError\u001b[0m                                 Traceback (most recent call last)",
      "Cell \u001b[0;32mIn[56], line 19\u001b[0m\n\u001b[1;32m     16\u001b[0m     \u001b[38;5;28;01mreturn\u001b[39;00m animation\n\u001b[1;32m     18\u001b[0m \u001b[38;5;66;03m# Run the test\u001b[39;00m\n\u001b[0;32m---> 19\u001b[0m animation \u001b[38;5;241m=\u001b[39m \u001b[43mtest_animation\u001b[49m\u001b[43m(\u001b[49m\u001b[43m)\u001b[49m\n",
      "Cell \u001b[0;32mIn[56], line 11\u001b[0m, in \u001b[0;36mtest_animation\u001b[0;34m()\u001b[0m\n\u001b[1;32m      5\u001b[0m filename \u001b[38;5;241m=\u001b[39m \u001b[38;5;124m\"\u001b[39m\u001b[38;5;124moutput/50steps.gif\u001b[39m\u001b[38;5;124m\"\u001b[39m  \u001b[38;5;66;03m# Filename to save the animation\u001b[39;00m\n\u001b[1;32m      7\u001b[0m \u001b[38;5;66;03m# Assuming the 'dish' object is already created and initialized\u001b[39;00m\n\u001b[1;32m      8\u001b[0m \u001b[38;5;66;03m# dish = Dish(...)  # Initialize the dish object here\u001b[39;00m\n\u001b[1;32m      9\u001b[0m \n\u001b[1;32m     10\u001b[0m \u001b[38;5;66;03m# Run the simulation\u001b[39;00m\n\u001b[0;32m---> 11\u001b[0m animation \u001b[38;5;241m=\u001b[39m \u001b[43mdish\u001b[49m\u001b[38;5;241;43m.\u001b[39;49m\u001b[43manimate\u001b[49m\u001b[43m(\u001b[49m\u001b[43mframes\u001b[49m\u001b[38;5;241;43m=\u001b[39;49m\u001b[43mframes\u001b[49m\u001b[43m,\u001b[49m\u001b[43m \u001b[49m\u001b[43minterval\u001b[49m\u001b[38;5;241;43m=\u001b[39;49m\u001b[43minterval\u001b[49m\u001b[43m,\u001b[49m\u001b[43m \u001b[49m\u001b[43mfilename\u001b[49m\u001b[38;5;241;43m=\u001b[39;49m\u001b[43mfilename\u001b[49m\u001b[43m)\u001b[49m\n\u001b[1;32m     13\u001b[0m \u001b[38;5;66;03m# To display the animation in the notebook\u001b[39;00m\n\u001b[1;32m     14\u001b[0m plt\u001b[38;5;241m.\u001b[39mshow()\n",
      "Cell \u001b[0;32mIn[54], line 85\u001b[0m, in \u001b[0;36mDish.animate\u001b[0;34m(self, frames, interval, filename)\u001b[0m\n\u001b[1;32m     82\u001b[0m     im\u001b[38;5;241m.\u001b[39mset_data(\u001b[38;5;28mself\u001b[39m\u001b[38;5;241m.\u001b[39mpheromones(\u001b[38;5;28mself\u001b[39m\u001b[38;5;241m.\u001b[39mlattice)\u001b[38;5;241m.\u001b[39mT)\n\u001b[1;32m     83\u001b[0m     \u001b[38;5;28;01mreturn\u001b[39;00m [im]\n\u001b[0;32m---> 85\u001b[0m ani \u001b[38;5;241m=\u001b[39m \u001b[43mFuncAnimation\u001b[49m\u001b[43m(\u001b[49m\u001b[43mfig\u001b[49m\u001b[43m,\u001b[49m\u001b[43m \u001b[49m\u001b[43mfunc\u001b[49m\u001b[43m,\u001b[49m\u001b[43m \u001b[49m\u001b[43mframes\u001b[49m\u001b[38;5;241;43m=\u001b[39;49m\u001b[43mframes\u001b[49m\u001b[43m,\u001b[49m\u001b[43m \u001b[49m\u001b[43mblit\u001b[49m\u001b[38;5;241;43m=\u001b[39;49m\u001b[38;5;28;43;01mTrue\u001b[39;49;00m\u001b[43m,\u001b[49m\u001b[43m \u001b[49m\u001b[43minterval\u001b[49m\u001b[38;5;241;43m=\u001b[39;49m\u001b[43minterval\u001b[49m\u001b[43m)\u001b[49m\n\u001b[1;32m     86\u001b[0m fps \u001b[38;5;241m=\u001b[39m \u001b[38;5;241m1\u001b[39m \u001b[38;5;241m/\u001b[39m (interval \u001b[38;5;241m/\u001b[39m \u001b[38;5;241m1000\u001b[39m)\n\u001b[1;32m     87\u001b[0m filename \u001b[38;5;129;01mis\u001b[39;00m \u001b[38;5;129;01mnot\u001b[39;00m \u001b[38;5;28;01mNone\u001b[39;00m \u001b[38;5;129;01mand\u001b[39;00m ani\u001b[38;5;241m.\u001b[39msave(filename, dpi\u001b[38;5;241m=\u001b[39m\u001b[38;5;241m150\u001b[39m, writer\u001b[38;5;241m=\u001b[39mPillowWriter(fps\u001b[38;5;241m=\u001b[39mfps))\n",
      "File \u001b[0;32m~/anaconda3/lib/python3.10/site-packages/matplotlib/animation.py:1686\u001b[0m, in \u001b[0;36mFuncAnimation.__init__\u001b[0;34m(self, fig, func, frames, init_func, fargs, save_count, cache_frame_data, **kwargs)\u001b[0m\n\u001b[1;32m   1683\u001b[0m \u001b[38;5;66;03m# Needs to be initialized so the draw functions work without checking\u001b[39;00m\n\u001b[1;32m   1684\u001b[0m \u001b[38;5;28mself\u001b[39m\u001b[38;5;241m.\u001b[39m_save_seq \u001b[38;5;241m=\u001b[39m []\n\u001b[0;32m-> 1686\u001b[0m \u001b[38;5;28;43msuper\u001b[39;49m\u001b[43m(\u001b[49m\u001b[43m)\u001b[49m\u001b[38;5;241;43m.\u001b[39;49m\u001b[38;5;21;43m__init__\u001b[39;49m\u001b[43m(\u001b[49m\u001b[43mfig\u001b[49m\u001b[43m,\u001b[49m\u001b[43m \u001b[49m\u001b[38;5;241;43m*\u001b[39;49m\u001b[38;5;241;43m*\u001b[39;49m\u001b[43mkwargs\u001b[49m\u001b[43m)\u001b[49m\n\u001b[1;32m   1688\u001b[0m \u001b[38;5;66;03m# Need to reset the saved seq, since right now it will contain data\u001b[39;00m\n\u001b[1;32m   1689\u001b[0m \u001b[38;5;66;03m# for a single frame from init, which is not what we want.\u001b[39;00m\n\u001b[1;32m   1690\u001b[0m \u001b[38;5;28mself\u001b[39m\u001b[38;5;241m.\u001b[39m_save_seq \u001b[38;5;241m=\u001b[39m []\n",
      "File \u001b[0;32m~/anaconda3/lib/python3.10/site-packages/matplotlib/animation.py:1408\u001b[0m, in \u001b[0;36mTimedAnimation.__init__\u001b[0;34m(self, fig, interval, repeat_delay, repeat, event_source, *args, **kwargs)\u001b[0m\n\u001b[1;32m   1406\u001b[0m \u001b[38;5;28;01mif\u001b[39;00m event_source \u001b[38;5;129;01mis\u001b[39;00m \u001b[38;5;28;01mNone\u001b[39;00m:\n\u001b[1;32m   1407\u001b[0m     event_source \u001b[38;5;241m=\u001b[39m fig\u001b[38;5;241m.\u001b[39mcanvas\u001b[38;5;241m.\u001b[39mnew_timer(interval\u001b[38;5;241m=\u001b[39m\u001b[38;5;28mself\u001b[39m\u001b[38;5;241m.\u001b[39m_interval)\n\u001b[0;32m-> 1408\u001b[0m \u001b[38;5;28;43msuper\u001b[39;49m\u001b[43m(\u001b[49m\u001b[43m)\u001b[49m\u001b[38;5;241;43m.\u001b[39;49m\u001b[38;5;21;43m__init__\u001b[39;49m\u001b[43m(\u001b[49m\u001b[43mfig\u001b[49m\u001b[43m,\u001b[49m\u001b[43m \u001b[49m\u001b[43mevent_source\u001b[49m\u001b[38;5;241;43m=\u001b[39;49m\u001b[43mevent_source\u001b[49m\u001b[43m,\u001b[49m\u001b[43m \u001b[49m\u001b[38;5;241;43m*\u001b[39;49m\u001b[43margs\u001b[49m\u001b[43m,\u001b[49m\u001b[43m \u001b[49m\u001b[38;5;241;43m*\u001b[39;49m\u001b[38;5;241;43m*\u001b[39;49m\u001b[43mkwargs\u001b[49m\u001b[43m)\u001b[49m\n",
      "File \u001b[0;32m~/anaconda3/lib/python3.10/site-packages/matplotlib/animation.py:876\u001b[0m, in \u001b[0;36mAnimation.__init__\u001b[0;34m(self, fig, event_source, blit)\u001b[0m\n\u001b[1;32m    873\u001b[0m \u001b[38;5;28mself\u001b[39m\u001b[38;5;241m.\u001b[39m_close_id \u001b[38;5;241m=\u001b[39m \u001b[38;5;28mself\u001b[39m\u001b[38;5;241m.\u001b[39m_fig\u001b[38;5;241m.\u001b[39mcanvas\u001b[38;5;241m.\u001b[39mmpl_connect(\u001b[38;5;124m'\u001b[39m\u001b[38;5;124mclose_event\u001b[39m\u001b[38;5;124m'\u001b[39m,\n\u001b[1;32m    874\u001b[0m                                               \u001b[38;5;28mself\u001b[39m\u001b[38;5;241m.\u001b[39m_stop)\n\u001b[1;32m    875\u001b[0m \u001b[38;5;28;01mif\u001b[39;00m \u001b[38;5;28mself\u001b[39m\u001b[38;5;241m.\u001b[39m_blit:\n\u001b[0;32m--> 876\u001b[0m     \u001b[38;5;28;43mself\u001b[39;49m\u001b[38;5;241;43m.\u001b[39;49m\u001b[43m_setup_blit\u001b[49m\u001b[43m(\u001b[49m\u001b[43m)\u001b[49m\n",
      "File \u001b[0;32m~/anaconda3/lib/python3.10/site-packages/matplotlib/animation.py:1201\u001b[0m, in \u001b[0;36mAnimation._setup_blit\u001b[0;34m(self)\u001b[0m\n\u001b[1;32m   1199\u001b[0m \u001b[38;5;28mself\u001b[39m\u001b[38;5;241m.\u001b[39m_drawn_artists \u001b[38;5;241m=\u001b[39m []\n\u001b[1;32m   1200\u001b[0m \u001b[38;5;66;03m# _post_draw needs to be called first to initialize the renderer\u001b[39;00m\n\u001b[0;32m-> 1201\u001b[0m \u001b[38;5;28;43mself\u001b[39;49m\u001b[38;5;241;43m.\u001b[39;49m\u001b[43m_post_draw\u001b[49m\u001b[43m(\u001b[49m\u001b[38;5;28;43;01mNone\u001b[39;49;00m\u001b[43m,\u001b[49m\u001b[43m \u001b[49m\u001b[38;5;28;43mself\u001b[39;49m\u001b[38;5;241;43m.\u001b[39;49m\u001b[43m_blit\u001b[49m\u001b[43m)\u001b[49m\n\u001b[1;32m   1202\u001b[0m \u001b[38;5;66;03m# Then we need to clear the Frame for the initial draw\u001b[39;00m\n\u001b[1;32m   1203\u001b[0m \u001b[38;5;66;03m# This is typically handled in _on_resize because QT and Tk\u001b[39;00m\n\u001b[1;32m   1204\u001b[0m \u001b[38;5;66;03m# emit a resize event on launch, but the macosx backend does not,\u001b[39;00m\n\u001b[1;32m   1205\u001b[0m \u001b[38;5;66;03m# thus we force it here for everyone for consistency\u001b[39;00m\n\u001b[1;32m   1206\u001b[0m \u001b[38;5;28mself\u001b[39m\u001b[38;5;241m.\u001b[39m_init_draw()\n",
      "File \u001b[0;32m~/anaconda3/lib/python3.10/site-packages/matplotlib/animation.py:1156\u001b[0m, in \u001b[0;36mAnimation._post_draw\u001b[0;34m(self, framedata, blit)\u001b[0m\n\u001b[1;32m   1154\u001b[0m     \u001b[38;5;28mself\u001b[39m\u001b[38;5;241m.\u001b[39m_blit_draw(\u001b[38;5;28mself\u001b[39m\u001b[38;5;241m.\u001b[39m_drawn_artists)\n\u001b[1;32m   1155\u001b[0m \u001b[38;5;28;01melse\u001b[39;00m:\n\u001b[0;32m-> 1156\u001b[0m     \u001b[38;5;28;43mself\u001b[39;49m\u001b[38;5;241;43m.\u001b[39;49m\u001b[43m_fig\u001b[49m\u001b[38;5;241;43m.\u001b[39;49m\u001b[43mcanvas\u001b[49m\u001b[38;5;241;43m.\u001b[39;49m\u001b[43mdraw_idle\u001b[49m\u001b[43m(\u001b[49m\u001b[43m)\u001b[49m\n",
      "File \u001b[0;32m~/anaconda3/lib/python3.10/site-packages/matplotlib/backend_bases.py:2078\u001b[0m, in \u001b[0;36mFigureCanvasBase.draw_idle\u001b[0;34m(self, *args, **kwargs)\u001b[0m\n\u001b[1;32m   2076\u001b[0m \u001b[38;5;28;01mif\u001b[39;00m \u001b[38;5;129;01mnot\u001b[39;00m \u001b[38;5;28mself\u001b[39m\u001b[38;5;241m.\u001b[39m_is_idle_drawing:\n\u001b[1;32m   2077\u001b[0m     \u001b[38;5;28;01mwith\u001b[39;00m \u001b[38;5;28mself\u001b[39m\u001b[38;5;241m.\u001b[39m_idle_draw_cntx():\n\u001b[0;32m-> 2078\u001b[0m         \u001b[38;5;28;43mself\u001b[39;49m\u001b[38;5;241;43m.\u001b[39;49m\u001b[43mdraw\u001b[49m\u001b[43m(\u001b[49m\u001b[38;5;241;43m*\u001b[39;49m\u001b[43margs\u001b[49m\u001b[43m,\u001b[49m\u001b[43m \u001b[49m\u001b[38;5;241;43m*\u001b[39;49m\u001b[38;5;241;43m*\u001b[39;49m\u001b[43mkwargs\u001b[49m\u001b[43m)\u001b[49m\n",
      "File \u001b[0;32m~/anaconda3/lib/python3.10/site-packages/matplotlib/backends/backend_agg.py:400\u001b[0m, in \u001b[0;36mFigureCanvasAgg.draw\u001b[0;34m(self)\u001b[0m\n\u001b[1;32m    396\u001b[0m \u001b[38;5;66;03m# Acquire a lock on the shared font cache.\u001b[39;00m\n\u001b[1;32m    397\u001b[0m \u001b[38;5;28;01mwith\u001b[39;00m RendererAgg\u001b[38;5;241m.\u001b[39mlock, \\\n\u001b[1;32m    398\u001b[0m      (\u001b[38;5;28mself\u001b[39m\u001b[38;5;241m.\u001b[39mtoolbar\u001b[38;5;241m.\u001b[39m_wait_cursor_for_draw_cm() \u001b[38;5;28;01mif\u001b[39;00m \u001b[38;5;28mself\u001b[39m\u001b[38;5;241m.\u001b[39mtoolbar\n\u001b[1;32m    399\u001b[0m       \u001b[38;5;28;01melse\u001b[39;00m nullcontext()):\n\u001b[0;32m--> 400\u001b[0m     \u001b[38;5;28;43mself\u001b[39;49m\u001b[38;5;241;43m.\u001b[39;49m\u001b[43mfigure\u001b[49m\u001b[38;5;241;43m.\u001b[39;49m\u001b[43mdraw\u001b[49m\u001b[43m(\u001b[49m\u001b[38;5;28;43mself\u001b[39;49m\u001b[38;5;241;43m.\u001b[39;49m\u001b[43mrenderer\u001b[49m\u001b[43m)\u001b[49m\n\u001b[1;32m    401\u001b[0m     \u001b[38;5;66;03m# A GUI class may be need to update a window using this draw, so\u001b[39;00m\n\u001b[1;32m    402\u001b[0m     \u001b[38;5;66;03m# don't forget to call the superclass.\u001b[39;00m\n\u001b[1;32m    403\u001b[0m     \u001b[38;5;28msuper\u001b[39m()\u001b[38;5;241m.\u001b[39mdraw()\n",
      "File \u001b[0;32m~/anaconda3/lib/python3.10/site-packages/matplotlib/artist.py:95\u001b[0m, in \u001b[0;36m_finalize_rasterization.<locals>.draw_wrapper\u001b[0;34m(artist, renderer, *args, **kwargs)\u001b[0m\n\u001b[1;32m     93\u001b[0m \u001b[38;5;129m@wraps\u001b[39m(draw)\n\u001b[1;32m     94\u001b[0m \u001b[38;5;28;01mdef\u001b[39;00m \u001b[38;5;21mdraw_wrapper\u001b[39m(artist, renderer, \u001b[38;5;241m*\u001b[39margs, \u001b[38;5;241m*\u001b[39m\u001b[38;5;241m*\u001b[39mkwargs):\n\u001b[0;32m---> 95\u001b[0m     result \u001b[38;5;241m=\u001b[39m \u001b[43mdraw\u001b[49m\u001b[43m(\u001b[49m\u001b[43martist\u001b[49m\u001b[43m,\u001b[49m\u001b[43m \u001b[49m\u001b[43mrenderer\u001b[49m\u001b[43m,\u001b[49m\u001b[43m \u001b[49m\u001b[38;5;241;43m*\u001b[39;49m\u001b[43margs\u001b[49m\u001b[43m,\u001b[49m\u001b[43m \u001b[49m\u001b[38;5;241;43m*\u001b[39;49m\u001b[38;5;241;43m*\u001b[39;49m\u001b[43mkwargs\u001b[49m\u001b[43m)\u001b[49m\n\u001b[1;32m     96\u001b[0m     \u001b[38;5;28;01mif\u001b[39;00m renderer\u001b[38;5;241m.\u001b[39m_rasterizing:\n\u001b[1;32m     97\u001b[0m         renderer\u001b[38;5;241m.\u001b[39mstop_rasterizing()\n",
      "File \u001b[0;32m~/anaconda3/lib/python3.10/site-packages/matplotlib/artist.py:72\u001b[0m, in \u001b[0;36mallow_rasterization.<locals>.draw_wrapper\u001b[0;34m(artist, renderer)\u001b[0m\n\u001b[1;32m     69\u001b[0m     \u001b[38;5;28;01mif\u001b[39;00m artist\u001b[38;5;241m.\u001b[39mget_agg_filter() \u001b[38;5;129;01mis\u001b[39;00m \u001b[38;5;129;01mnot\u001b[39;00m \u001b[38;5;28;01mNone\u001b[39;00m:\n\u001b[1;32m     70\u001b[0m         renderer\u001b[38;5;241m.\u001b[39mstart_filter()\n\u001b[0;32m---> 72\u001b[0m     \u001b[38;5;28;01mreturn\u001b[39;00m \u001b[43mdraw\u001b[49m\u001b[43m(\u001b[49m\u001b[43martist\u001b[49m\u001b[43m,\u001b[49m\u001b[43m \u001b[49m\u001b[43mrenderer\u001b[49m\u001b[43m)\u001b[49m\n\u001b[1;32m     73\u001b[0m \u001b[38;5;28;01mfinally\u001b[39;00m:\n\u001b[1;32m     74\u001b[0m     \u001b[38;5;28;01mif\u001b[39;00m artist\u001b[38;5;241m.\u001b[39mget_agg_filter() \u001b[38;5;129;01mis\u001b[39;00m \u001b[38;5;129;01mnot\u001b[39;00m \u001b[38;5;28;01mNone\u001b[39;00m:\n",
      "File \u001b[0;32m~/anaconda3/lib/python3.10/site-packages/matplotlib/figure.py:3135\u001b[0m, in \u001b[0;36mFigure.draw\u001b[0;34m(self, renderer)\u001b[0m\n\u001b[1;32m   3132\u001b[0m \u001b[38;5;28;01mfinally\u001b[39;00m:\n\u001b[1;32m   3133\u001b[0m     \u001b[38;5;28mself\u001b[39m\u001b[38;5;241m.\u001b[39mstale \u001b[38;5;241m=\u001b[39m \u001b[38;5;28;01mFalse\u001b[39;00m\n\u001b[0;32m-> 3135\u001b[0m \u001b[43mDrawEvent\u001b[49m\u001b[43m(\u001b[49m\u001b[38;5;124;43m\"\u001b[39;49m\u001b[38;5;124;43mdraw_event\u001b[39;49m\u001b[38;5;124;43m\"\u001b[39;49m\u001b[43m,\u001b[49m\u001b[43m \u001b[49m\u001b[38;5;28;43mself\u001b[39;49m\u001b[38;5;241;43m.\u001b[39;49m\u001b[43mcanvas\u001b[49m\u001b[43m,\u001b[49m\u001b[43m \u001b[49m\u001b[43mrenderer\u001b[49m\u001b[43m)\u001b[49m\u001b[38;5;241;43m.\u001b[39;49m\u001b[43m_process\u001b[49m\u001b[43m(\u001b[49m\u001b[43m)\u001b[49m\n",
      "File \u001b[0;32m~/anaconda3/lib/python3.10/site-packages/matplotlib/backend_bases.py:1259\u001b[0m, in \u001b[0;36mEvent._process\u001b[0;34m(self)\u001b[0m\n\u001b[1;32m   1257\u001b[0m \u001b[38;5;28;01mdef\u001b[39;00m \u001b[38;5;21m_process\u001b[39m(\u001b[38;5;28mself\u001b[39m):\n\u001b[1;32m   1258\u001b[0m     \u001b[38;5;124;03m\"\"\"Generate an event with name ``self.name`` on ``self.canvas``.\"\"\"\u001b[39;00m\n\u001b[0;32m-> 1259\u001b[0m     \u001b[38;5;28;43mself\u001b[39;49m\u001b[38;5;241;43m.\u001b[39;49m\u001b[43mcanvas\u001b[49m\u001b[38;5;241;43m.\u001b[39;49m\u001b[43mcallbacks\u001b[49m\u001b[38;5;241;43m.\u001b[39;49m\u001b[43mprocess\u001b[49m\u001b[43m(\u001b[49m\u001b[38;5;28;43mself\u001b[39;49m\u001b[38;5;241;43m.\u001b[39;49m\u001b[43mname\u001b[49m\u001b[43m,\u001b[49m\u001b[43m \u001b[49m\u001b[38;5;28;43mself\u001b[39;49m\u001b[43m)\u001b[49m\n",
      "File \u001b[0;32m~/anaconda3/lib/python3.10/site-packages/matplotlib/cbook/__init__.py:309\u001b[0m, in \u001b[0;36mCallbackRegistry.process\u001b[0;34m(self, s, *args, **kwargs)\u001b[0m\n\u001b[1;32m    307\u001b[0m \u001b[38;5;28;01mexcept\u001b[39;00m \u001b[38;5;167;01mException\u001b[39;00m \u001b[38;5;28;01mas\u001b[39;00m exc:\n\u001b[1;32m    308\u001b[0m     \u001b[38;5;28;01mif\u001b[39;00m \u001b[38;5;28mself\u001b[39m\u001b[38;5;241m.\u001b[39mexception_handler \u001b[38;5;129;01mis\u001b[39;00m \u001b[38;5;129;01mnot\u001b[39;00m \u001b[38;5;28;01mNone\u001b[39;00m:\n\u001b[0;32m--> 309\u001b[0m         \u001b[38;5;28;43mself\u001b[39;49m\u001b[38;5;241;43m.\u001b[39;49m\u001b[43mexception_handler\u001b[49m\u001b[43m(\u001b[49m\u001b[43mexc\u001b[49m\u001b[43m)\u001b[49m\n\u001b[1;32m    310\u001b[0m     \u001b[38;5;28;01melse\u001b[39;00m:\n\u001b[1;32m    311\u001b[0m         \u001b[38;5;28;01mraise\u001b[39;00m\n",
      "File \u001b[0;32m~/anaconda3/lib/python3.10/site-packages/matplotlib/cbook/__init__.py:96\u001b[0m, in \u001b[0;36m_exception_printer\u001b[0;34m(exc)\u001b[0m\n\u001b[1;32m     94\u001b[0m \u001b[38;5;28;01mdef\u001b[39;00m \u001b[38;5;21m_exception_printer\u001b[39m(exc):\n\u001b[1;32m     95\u001b[0m     \u001b[38;5;28;01mif\u001b[39;00m _get_running_interactive_framework() \u001b[38;5;129;01min\u001b[39;00m [\u001b[38;5;124m\"\u001b[39m\u001b[38;5;124mheadless\u001b[39m\u001b[38;5;124m\"\u001b[39m, \u001b[38;5;28;01mNone\u001b[39;00m]:\n\u001b[0;32m---> 96\u001b[0m         \u001b[38;5;28;01mraise\u001b[39;00m exc\n\u001b[1;32m     97\u001b[0m     \u001b[38;5;28;01melse\u001b[39;00m:\n\u001b[1;32m     98\u001b[0m         traceback\u001b[38;5;241m.\u001b[39mprint_exc()\n",
      "File \u001b[0;32m~/anaconda3/lib/python3.10/site-packages/matplotlib/cbook/__init__.py:304\u001b[0m, in \u001b[0;36mCallbackRegistry.process\u001b[0;34m(self, s, *args, **kwargs)\u001b[0m\n\u001b[1;32m    302\u001b[0m \u001b[38;5;28;01mif\u001b[39;00m func \u001b[38;5;129;01mis\u001b[39;00m \u001b[38;5;129;01mnot\u001b[39;00m \u001b[38;5;28;01mNone\u001b[39;00m:\n\u001b[1;32m    303\u001b[0m     \u001b[38;5;28;01mtry\u001b[39;00m:\n\u001b[0;32m--> 304\u001b[0m         \u001b[43mfunc\u001b[49m\u001b[43m(\u001b[49m\u001b[38;5;241;43m*\u001b[39;49m\u001b[43margs\u001b[49m\u001b[43m,\u001b[49m\u001b[43m \u001b[49m\u001b[38;5;241;43m*\u001b[39;49m\u001b[38;5;241;43m*\u001b[39;49m\u001b[43mkwargs\u001b[49m\u001b[43m)\u001b[49m\n\u001b[1;32m    305\u001b[0m     \u001b[38;5;66;03m# this does not capture KeyboardInterrupt, SystemExit,\u001b[39;00m\n\u001b[1;32m    306\u001b[0m     \u001b[38;5;66;03m# and GeneratorExit\u001b[39;00m\n\u001b[1;32m    307\u001b[0m     \u001b[38;5;28;01mexcept\u001b[39;00m \u001b[38;5;167;01mException\u001b[39;00m \u001b[38;5;28;01mas\u001b[39;00m exc:\n",
      "File \u001b[0;32m~/anaconda3/lib/python3.10/site-packages/matplotlib/animation.py:900\u001b[0m, in \u001b[0;36mAnimation._start\u001b[0;34m(self, *args)\u001b[0m\n\u001b[1;32m    897\u001b[0m \u001b[38;5;28mself\u001b[39m\u001b[38;5;241m.\u001b[39m_fig\u001b[38;5;241m.\u001b[39mcanvas\u001b[38;5;241m.\u001b[39mmpl_disconnect(\u001b[38;5;28mself\u001b[39m\u001b[38;5;241m.\u001b[39m_first_draw_id)\n\u001b[1;32m    899\u001b[0m \u001b[38;5;66;03m# Now do any initial draw\u001b[39;00m\n\u001b[0;32m--> 900\u001b[0m \u001b[38;5;28;43mself\u001b[39;49m\u001b[38;5;241;43m.\u001b[39;49m\u001b[43m_init_draw\u001b[49m\u001b[43m(\u001b[49m\u001b[43m)\u001b[49m\n\u001b[1;32m    902\u001b[0m \u001b[38;5;66;03m# Add our callback for stepping the animation and\u001b[39;00m\n\u001b[1;32m    903\u001b[0m \u001b[38;5;66;03m# actually start the event_source.\u001b[39;00m\n\u001b[1;32m    904\u001b[0m \u001b[38;5;28mself\u001b[39m\u001b[38;5;241m.\u001b[39mevent_source\u001b[38;5;241m.\u001b[39madd_callback(\u001b[38;5;28mself\u001b[39m\u001b[38;5;241m.\u001b[39m_step)\n",
      "File \u001b[0;32m~/anaconda3/lib/python3.10/site-packages/matplotlib/animation.py:1740\u001b[0m, in \u001b[0;36mFuncAnimation._init_draw\u001b[0;34m(self)\u001b[0m\n\u001b[1;32m   1732\u001b[0m         warnings\u001b[38;5;241m.\u001b[39mwarn(\n\u001b[1;32m   1733\u001b[0m             \u001b[38;5;124m\"\u001b[39m\u001b[38;5;124mCan not start iterating the frames for the initial draw. \u001b[39m\u001b[38;5;124m\"\u001b[39m\n\u001b[1;32m   1734\u001b[0m             \u001b[38;5;124m\"\u001b[39m\u001b[38;5;124mThis can be caused by passing in a 0 length sequence \u001b[39m\u001b[38;5;124m\"\u001b[39m\n\u001b[0;32m   (...)\u001b[0m\n\u001b[1;32m   1737\u001b[0m             \u001b[38;5;124m\"\u001b[39m\u001b[38;5;124mit may be exhausted due to a previous display or save.\u001b[39m\u001b[38;5;124m\"\u001b[39m\n\u001b[1;32m   1738\u001b[0m         )\n\u001b[1;32m   1739\u001b[0m         \u001b[38;5;28;01mreturn\u001b[39;00m\n\u001b[0;32m-> 1740\u001b[0m     \u001b[38;5;28;43mself\u001b[39;49m\u001b[38;5;241;43m.\u001b[39;49m\u001b[43m_draw_frame\u001b[49m\u001b[43m(\u001b[49m\u001b[43mframe_data\u001b[49m\u001b[43m)\u001b[49m\n\u001b[1;32m   1741\u001b[0m \u001b[38;5;28;01melse\u001b[39;00m:\n\u001b[1;32m   1742\u001b[0m     \u001b[38;5;28mself\u001b[39m\u001b[38;5;241m.\u001b[39m_drawn_artists \u001b[38;5;241m=\u001b[39m \u001b[38;5;28mself\u001b[39m\u001b[38;5;241m.\u001b[39m_init_func()\n",
      "File \u001b[0;32m~/anaconda3/lib/python3.10/site-packages/matplotlib/animation.py:1759\u001b[0m, in \u001b[0;36mFuncAnimation._draw_frame\u001b[0;34m(self, framedata)\u001b[0m\n\u001b[1;32m   1755\u001b[0m     \u001b[38;5;28mself\u001b[39m\u001b[38;5;241m.\u001b[39m_save_seq \u001b[38;5;241m=\u001b[39m \u001b[38;5;28mself\u001b[39m\u001b[38;5;241m.\u001b[39m_save_seq[\u001b[38;5;241m-\u001b[39m\u001b[38;5;28mself\u001b[39m\u001b[38;5;241m.\u001b[39m_save_count:]\n\u001b[1;32m   1757\u001b[0m \u001b[38;5;66;03m# Call the func with framedata and args. If blitting is desired,\u001b[39;00m\n\u001b[1;32m   1758\u001b[0m \u001b[38;5;66;03m# func needs to return a sequence of any artists that were modified.\u001b[39;00m\n\u001b[0;32m-> 1759\u001b[0m \u001b[38;5;28mself\u001b[39m\u001b[38;5;241m.\u001b[39m_drawn_artists \u001b[38;5;241m=\u001b[39m \u001b[38;5;28;43mself\u001b[39;49m\u001b[38;5;241;43m.\u001b[39;49m\u001b[43m_func\u001b[49m\u001b[43m(\u001b[49m\u001b[43mframedata\u001b[49m\u001b[43m,\u001b[49m\u001b[43m \u001b[49m\u001b[38;5;241;43m*\u001b[39;49m\u001b[38;5;28;43mself\u001b[39;49m\u001b[38;5;241;43m.\u001b[39;49m\u001b[43m_args\u001b[49m\u001b[43m)\u001b[49m\n\u001b[1;32m   1761\u001b[0m \u001b[38;5;28;01mif\u001b[39;00m \u001b[38;5;28mself\u001b[39m\u001b[38;5;241m.\u001b[39m_blit:\n\u001b[1;32m   1763\u001b[0m     err \u001b[38;5;241m=\u001b[39m \u001b[38;5;167;01mRuntimeError\u001b[39;00m(\u001b[38;5;124m'\u001b[39m\u001b[38;5;124mThe animation function must return a sequence \u001b[39m\u001b[38;5;124m'\u001b[39m\n\u001b[1;32m   1764\u001b[0m                        \u001b[38;5;124m'\u001b[39m\u001b[38;5;124mof Artist objects.\u001b[39m\u001b[38;5;124m'\u001b[39m)\n",
      "Cell \u001b[0;32mIn[54], line 81\u001b[0m, in \u001b[0;36mDish.animate.<locals>.func\u001b[0;34m(frame)\u001b[0m\n\u001b[1;32m     80\u001b[0m \u001b[38;5;28;01mdef\u001b[39;00m \u001b[38;5;21mfunc\u001b[39m(frame):\n\u001b[0;32m---> 81\u001b[0m     \u001b[38;5;28;43mself\u001b[39;49m\u001b[38;5;241;43m.\u001b[39;49m\u001b[43mmould\u001b[49m\u001b[38;5;241;43m.\u001b[39;49m\u001b[43mevolve\u001b[49m\u001b[43m(\u001b[49m\u001b[43m)\u001b[49m\n\u001b[1;32m     82\u001b[0m     im\u001b[38;5;241m.\u001b[39mset_data(\u001b[38;5;28mself\u001b[39m\u001b[38;5;241m.\u001b[39mpheromones(\u001b[38;5;28mself\u001b[39m\u001b[38;5;241m.\u001b[39mlattice)\u001b[38;5;241m.\u001b[39mT)\n\u001b[1;32m     83\u001b[0m     \u001b[38;5;28;01mreturn\u001b[39;00m [im]\n",
      "Cell \u001b[0;32mIn[53], line 196\u001b[0m, in \u001b[0;36mMould.evolve\u001b[0;34m(self)\u001b[0m\n\u001b[1;32m    194\u001b[0m slime_idx \u001b[38;5;241m=\u001b[39m \u001b[38;5;28mlist\u001b[39m(\u001b[38;5;28mself\u001b[39m\u001b[38;5;241m.\u001b[39mslime_cells\u001b[38;5;241m.\u001b[39mkeys())\n\u001b[1;32m    195\u001b[0m \u001b[38;5;28;01mfor\u001b[39;00m idx \u001b[38;5;129;01min\u001b[39;00m slime_idx:\n\u001b[0;32m--> 196\u001b[0m     \u001b[38;5;28;43mself\u001b[39;49m\u001b[38;5;241;43m.\u001b[39;49m\u001b[43mdish\u001b[49m\u001b[38;5;241;43m.\u001b[39;49m\u001b[43mget_lattice\u001b[49m\u001b[43m(\u001b[49m\u001b[43m)\u001b[49m\u001b[43m[\u001b[49m\u001b[43midx\u001b[49m\u001b[43m]\u001b[49m\u001b[38;5;241;43m.\u001b[39;49m\u001b[43mstep\u001b[49m\u001b[43m(\u001b[49m\u001b[38;5;28;43mself\u001b[39;49m\u001b[38;5;241;43m.\u001b[39;49m\u001b[43mdish\u001b[49m\u001b[38;5;241;43m.\u001b[39;49m\u001b[43mget_lattice\u001b[49m\u001b[43m(\u001b[49m\u001b[43m)\u001b[49m\u001b[43m,\u001b[49m\u001b[43m \u001b[49m\u001b[38;5;28;43mself\u001b[39;49m\u001b[38;5;241;43m.\u001b[39;49m\u001b[43mdecay\u001b[49m\u001b[43m)\u001b[49m\n\u001b[1;32m    197\u001b[0m \u001b[38;5;28;01mif\u001b[39;00m \u001b[38;5;28mlen\u001b[39m(\u001b[38;5;28mself\u001b[39m\u001b[38;5;241m.\u001b[39mreached_food_ids) \u001b[38;5;241m==\u001b[39m previous_reached_foods:\n\u001b[1;32m    198\u001b[0m     \u001b[38;5;28mself\u001b[39m\u001b[38;5;241m.\u001b[39mtarget_switch_count \u001b[38;5;241m+\u001b[39m\u001b[38;5;241m=\u001b[39m \u001b[38;5;241m1\u001b[39m\n",
      "Cell \u001b[0;32mIn[49], line 258\u001b[0m, in \u001b[0;36mSlimeCell.step\u001b[0;34m(self, lattice, decay)\u001b[0m\n\u001b[1;32m    253\u001b[0m \u001b[38;5;28;01mdef\u001b[39;00m \u001b[38;5;21mstep\u001b[39m(\u001b[38;5;28mself\u001b[39m, lattice, decay):\n\u001b[1;32m    254\u001b[0m     \u001b[38;5;124;03m\"\"\"\u001b[39;00m\n\u001b[1;32m    255\u001b[0m \u001b[38;5;124;03m    The sensory stage: all slime cells adjust their direction based on the food\u001b[39;00m\n\u001b[1;32m    256\u001b[0m \u001b[38;5;124;03m    The diffusion stage: all pheromones undergo diffusion\u001b[39;00m\n\u001b[1;32m    257\u001b[0m \u001b[38;5;124;03m    \"\"\"\u001b[39;00m\n\u001b[0;32m--> 258\u001b[0m     \u001b[38;5;28;43mself\u001b[39;49m\u001b[38;5;241;43m.\u001b[39;49m\u001b[43msensory\u001b[49m\u001b[43m(\u001b[49m\u001b[43m)\u001b[49m\n\u001b[1;32m    259\u001b[0m     \u001b[38;5;28mself\u001b[39m\u001b[38;5;241m.\u001b[39mdiffusion(lattice, decay)\n",
      "Cell \u001b[0;32mIn[49], line 134\u001b[0m, in \u001b[0;36mSlimeCell.sensory\u001b[0;34m(self)\u001b[0m\n\u001b[1;32m    132\u001b[0m \u001b[38;5;28;01mif\u001b[39;00m \u001b[38;5;28mself\u001b[39m\u001b[38;5;241m.\u001b[39mreached_food_id \u001b[38;5;241m==\u001b[39m \u001b[38;5;28mself\u001b[39m\u001b[38;5;241m.\u001b[39mstep_food:\n\u001b[1;32m    133\u001b[0m     \u001b[38;5;28mself\u001b[39m\u001b[38;5;241m.\u001b[39mreset_step_food()\n\u001b[0;32m--> 134\u001b[0m food_idx \u001b[38;5;241m=\u001b[39m \u001b[38;5;28;43mself\u001b[39;49m\u001b[38;5;241;43m.\u001b[39;49m\u001b[43mstep_food\u001b[49m\u001b[43m[\u001b[49m\u001b[38;5;241;43m1\u001b[39;49m\u001b[43m]\u001b[49m\n\u001b[1;32m    136\u001b[0m \u001b[38;5;66;03m# (-1, -1)\u001b[39;00m\n\u001b[1;32m    137\u001b[0m \u001b[38;5;28;01mif\u001b[39;00m food_idx[\u001b[38;5;241m0\u001b[39m] \u001b[38;5;241m<\u001b[39m \u001b[38;5;28mself\u001b[39m\u001b[38;5;241m.\u001b[39midx[\u001b[38;5;241m0\u001b[39m] \u001b[38;5;129;01mand\u001b[39;00m food_idx[\u001b[38;5;241m1\u001b[39m] \u001b[38;5;241m<\u001b[39m \u001b[38;5;28mself\u001b[39m\u001b[38;5;241m.\u001b[39midx[\u001b[38;5;241m1\u001b[39m]:\n",
      "\u001b[0;31mTypeError\u001b[0m: 'NoneType' object is not subscriptable"
     ]
    },
    {
     "data": {
      "image/png": "[encoded data removed]",
      "text/plain": [
       "<Figure size 630x500 with 1 Axes>"
      ]
     },
     "metadata": {},
     "output_type": "display_data"
    }
   ],
   "source": [
    "# Test the animation setup\n",
    "def test_animation():\n",
    "    frames = 50  # Number of frames in the animation\n",
    "    interval = 100  # Time interval between frames in milliseconds\n",
    "    filename = \"output/50steps.gif\"  # Filename to save the animation\n",
    "\n",
    "    # Assuming the 'dish' object is already created and initialized\n",
    "    # dish = Dish(...)  # Initialize the dish object here\n",
    "\n",
    "    # Run the simulation\n",
    "    animation = dish.animate(frames=frames, interval=interval, filename=filename)\n",
    "\n",
    "    # To display the animation in the notebook\n",
    "    plt.show()\n",
    "\n",
    "    return animation\n",
    "\n",
    "# Run the test\n",
    "animation = test_animation()"
   ]
  },
  {
   "cell_type": "code",
   "execution_count": 36,
   "metadata": {},
   "outputs": [
    {
     "ename": "TypeError",
     "evalue": "'int' object is not subscriptable",
     "output_type": "error",
     "traceback": [
      "\u001b[0;31m---------------------------------------------------------------------------\u001b[0m",
      "\u001b[0;31mTypeError\u001b[0m                                 Traceback (most recent call last)",
      "Cell \u001b[0;32mIn[36], line 7\u001b[0m\n\u001b[1;32m      4\u001b[0m filename \u001b[38;5;241m=\u001b[39m \u001b[38;5;124m\"\u001b[39m\u001b[38;5;124moutput/50steps.gif\u001b[39m\u001b[38;5;124m\"\u001b[39m  \u001b[38;5;66;03m# Filename to save the animation\u001b[39;00m\n\u001b[1;32m      6\u001b[0m \u001b[38;5;66;03m# Run the simulation\u001b[39;00m\n\u001b[0;32m----> 7\u001b[0m animation \u001b[38;5;241m=\u001b[39m \u001b[43mdish\u001b[49m\u001b[38;5;241;43m.\u001b[39;49m\u001b[43manimate\u001b[49m\u001b[43m(\u001b[49m\u001b[43mframes\u001b[49m\u001b[38;5;241;43m=\u001b[39;49m\u001b[43mframes\u001b[49m\u001b[43m,\u001b[49m\u001b[43m \u001b[49m\u001b[43minterval\u001b[49m\u001b[38;5;241;43m=\u001b[39;49m\u001b[43minterval\u001b[49m\u001b[43m,\u001b[49m\u001b[43m \u001b[49m\u001b[43mfilename\u001b[49m\u001b[38;5;241;43m=\u001b[39;49m\u001b[43mfilename\u001b[49m\u001b[43m)\u001b[49m\n\u001b[1;32m      9\u001b[0m \u001b[38;5;66;03m# To display the animation in the notebook\u001b[39;00m\n\u001b[1;32m     10\u001b[0m plt\u001b[38;5;241m.\u001b[39mshow()\n",
      "Cell \u001b[0;32mIn[34], line 85\u001b[0m, in \u001b[0;36mDish.animate\u001b[0;34m(self, frames, interval, filename)\u001b[0m\n\u001b[1;32m     82\u001b[0m     im\u001b[38;5;241m.\u001b[39mset_data(\u001b[38;5;28mself\u001b[39m\u001b[38;5;241m.\u001b[39mpheromones(\u001b[38;5;28mself\u001b[39m\u001b[38;5;241m.\u001b[39mlattice)\u001b[38;5;241m.\u001b[39mT)\n\u001b[1;32m     83\u001b[0m     \u001b[38;5;28;01mreturn\u001b[39;00m [im]\n\u001b[0;32m---> 85\u001b[0m ani \u001b[38;5;241m=\u001b[39m \u001b[43mFuncAnimation\u001b[49m\u001b[43m(\u001b[49m\u001b[43mfig\u001b[49m\u001b[43m,\u001b[49m\u001b[43m \u001b[49m\u001b[43mfunc\u001b[49m\u001b[43m,\u001b[49m\u001b[43m \u001b[49m\u001b[43mframes\u001b[49m\u001b[38;5;241;43m=\u001b[39;49m\u001b[43mframes\u001b[49m\u001b[43m,\u001b[49m\u001b[43m \u001b[49m\u001b[43mblit\u001b[49m\u001b[38;5;241;43m=\u001b[39;49m\u001b[38;5;28;43;01mTrue\u001b[39;49;00m\u001b[43m,\u001b[49m\u001b[43m \u001b[49m\u001b[43minterval\u001b[49m\u001b[38;5;241;43m=\u001b[39;49m\u001b[43minterval\u001b[49m\u001b[43m)\u001b[49m\n\u001b[1;32m     86\u001b[0m fps \u001b[38;5;241m=\u001b[39m \u001b[38;5;241m1\u001b[39m \u001b[38;5;241m/\u001b[39m (interval \u001b[38;5;241m/\u001b[39m \u001b[38;5;241m1000\u001b[39m)\n\u001b[1;32m     87\u001b[0m filename \u001b[38;5;129;01mis\u001b[39;00m \u001b[38;5;129;01mnot\u001b[39;00m \u001b[38;5;28;01mNone\u001b[39;00m \u001b[38;5;129;01mand\u001b[39;00m ani\u001b[38;5;241m.\u001b[39msave(filename, dpi\u001b[38;5;241m=\u001b[39m\u001b[38;5;241m150\u001b[39m, writer\u001b[38;5;241m=\u001b[39mPillowWriter(fps\u001b[38;5;241m=\u001b[39mfps))\n",
      "File \u001b[0;32m~/anaconda3/lib/python3.10/site-packages/matplotlib/animation.py:1686\u001b[0m, in \u001b[0;36mFuncAnimation.__init__\u001b[0;34m(self, fig, func, frames, init_func, fargs, save_count, cache_frame_data, **kwargs)\u001b[0m\n\u001b[1;32m   1683\u001b[0m \u001b[38;5;66;03m# Needs to be initialized so the draw functions work without checking\u001b[39;00m\n\u001b[1;32m   1684\u001b[0m \u001b[38;5;28mself\u001b[39m\u001b[38;5;241m.\u001b[39m_save_seq \u001b[38;5;241m=\u001b[39m []\n\u001b[0;32m-> 1686\u001b[0m \u001b[38;5;28;43msuper\u001b[39;49m\u001b[43m(\u001b[49m\u001b[43m)\u001b[49m\u001b[38;5;241;43m.\u001b[39;49m\u001b[38;5;21;43m__init__\u001b[39;49m\u001b[43m(\u001b[49m\u001b[43mfig\u001b[49m\u001b[43m,\u001b[49m\u001b[43m \u001b[49m\u001b[38;5;241;43m*\u001b[39;49m\u001b[38;5;241;43m*\u001b[39;49m\u001b[43mkwargs\u001b[49m\u001b[43m)\u001b[49m\n\u001b[1;32m   1688\u001b[0m \u001b[38;5;66;03m# Need to reset the saved seq, since right now it will contain data\u001b[39;00m\n\u001b[1;32m   1689\u001b[0m \u001b[38;5;66;03m# for a single frame from init, which is not what we want.\u001b[39;00m\n\u001b[1;32m   1690\u001b[0m \u001b[38;5;28mself\u001b[39m\u001b[38;5;241m.\u001b[39m_save_seq \u001b[38;5;241m=\u001b[39m []\n",
      "File \u001b[0;32m~/anaconda3/lib/python3.10/site-packages/matplotlib/animation.py:1408\u001b[0m, in \u001b[0;36mTimedAnimation.__init__\u001b[0;34m(self, fig, interval, repeat_delay, repeat, event_source, *args, **kwargs)\u001b[0m\n\u001b[1;32m   1406\u001b[0m \u001b[38;5;28;01mif\u001b[39;00m event_source \u001b[38;5;129;01mis\u001b[39;00m \u001b[38;5;28;01mNone\u001b[39;00m:\n\u001b[1;32m   1407\u001b[0m     event_source \u001b[38;5;241m=\u001b[39m fig\u001b[38;5;241m.\u001b[39mcanvas\u001b[38;5;241m.\u001b[39mnew_timer(interval\u001b[38;5;241m=\u001b[39m\u001b[38;5;28mself\u001b[39m\u001b[38;5;241m.\u001b[39m_interval)\n\u001b[0;32m-> 1408\u001b[0m \u001b[38;5;28;43msuper\u001b[39;49m\u001b[43m(\u001b[49m\u001b[43m)\u001b[49m\u001b[38;5;241;43m.\u001b[39;49m\u001b[38;5;21;43m__init__\u001b[39;49m\u001b[43m(\u001b[49m\u001b[43mfig\u001b[49m\u001b[43m,\u001b[49m\u001b[43m \u001b[49m\u001b[43mevent_source\u001b[49m\u001b[38;5;241;43m=\u001b[39;49m\u001b[43mevent_source\u001b[49m\u001b[43m,\u001b[49m\u001b[43m \u001b[49m\u001b[38;5;241;43m*\u001b[39;49m\u001b[43margs\u001b[49m\u001b[43m,\u001b[49m\u001b[43m \u001b[49m\u001b[38;5;241;43m*\u001b[39;49m\u001b[38;5;241;43m*\u001b[39;49m\u001b[43mkwargs\u001b[49m\u001b[43m)\u001b[49m\n",
      "File \u001b[0;32m~/anaconda3/lib/python3.10/site-packages/matplotlib/animation.py:876\u001b[0m, in \u001b[0;36mAnimation.__init__\u001b[0;34m(self, fig, event_source, blit)\u001b[0m\n\u001b[1;32m    873\u001b[0m \u001b[38;5;28mself\u001b[39m\u001b[38;5;241m.\u001b[39m_close_id \u001b[38;5;241m=\u001b[39m \u001b[38;5;28mself\u001b[39m\u001b[38;5;241m.\u001b[39m_fig\u001b[38;5;241m.\u001b[39mcanvas\u001b[38;5;241m.\u001b[39mmpl_connect(\u001b[38;5;124m'\u001b[39m\u001b[38;5;124mclose_event\u001b[39m\u001b[38;5;124m'\u001b[39m,\n\u001b[1;32m    874\u001b[0m                                               \u001b[38;5;28mself\u001b[39m\u001b[38;5;241m.\u001b[39m_stop)\n\u001b[1;32m    875\u001b[0m \u001b[38;5;28;01mif\u001b[39;00m \u001b[38;5;28mself\u001b[39m\u001b[38;5;241m.\u001b[39m_blit:\n\u001b[0;32m--> 876\u001b[0m     \u001b[38;5;28;43mself\u001b[39;49m\u001b[38;5;241;43m.\u001b[39;49m\u001b[43m_setup_blit\u001b[49m\u001b[43m(\u001b[49m\u001b[43m)\u001b[49m\n",
      "File \u001b[0;32m~/anaconda3/lib/python3.10/site-packages/matplotlib/animation.py:1201\u001b[0m, in \u001b[0;36mAnimation._setup_blit\u001b[0;34m(self)\u001b[0m\n\u001b[1;32m   1199\u001b[0m \u001b[38;5;28mself\u001b[39m\u001b[38;5;241m.\u001b[39m_drawn_artists \u001b[38;5;241m=\u001b[39m []\n\u001b[1;32m   1200\u001b[0m \u001b[38;5;66;03m# _post_draw needs to be called first to initialize the renderer\u001b[39;00m\n\u001b[0;32m-> 1201\u001b[0m \u001b[38;5;28;43mself\u001b[39;49m\u001b[38;5;241;43m.\u001b[39;49m\u001b[43m_post_draw\u001b[49m\u001b[43m(\u001b[49m\u001b[38;5;28;43;01mNone\u001b[39;49;00m\u001b[43m,\u001b[49m\u001b[43m \u001b[49m\u001b[38;5;28;43mself\u001b[39;49m\u001b[38;5;241;43m.\u001b[39;49m\u001b[43m_blit\u001b[49m\u001b[43m)\u001b[49m\n\u001b[1;32m   1202\u001b[0m \u001b[38;5;66;03m# Then we need to clear the Frame for the initial draw\u001b[39;00m\n\u001b[1;32m   1203\u001b[0m \u001b[38;5;66;03m# This is typically handled in _on_resize because QT and Tk\u001b[39;00m\n\u001b[1;32m   1204\u001b[0m \u001b[38;5;66;03m# emit a resize event on launch, but the macosx backend does not,\u001b[39;00m\n\u001b[1;32m   1205\u001b[0m \u001b[38;5;66;03m# thus we force it here for everyone for consistency\u001b[39;00m\n\u001b[1;32m   1206\u001b[0m \u001b[38;5;28mself\u001b[39m\u001b[38;5;241m.\u001b[39m_init_draw()\n",
      "File \u001b[0;32m~/anaconda3/lib/python3.10/site-packages/matplotlib/animation.py:1156\u001b[0m, in \u001b[0;36mAnimation._post_draw\u001b[0;34m(self, framedata, blit)\u001b[0m\n\u001b[1;32m   1154\u001b[0m     \u001b[38;5;28mself\u001b[39m\u001b[38;5;241m.\u001b[39m_blit_draw(\u001b[38;5;28mself\u001b[39m\u001b[38;5;241m.\u001b[39m_drawn_artists)\n\u001b[1;32m   1155\u001b[0m \u001b[38;5;28;01melse\u001b[39;00m:\n\u001b[0;32m-> 1156\u001b[0m     \u001b[38;5;28;43mself\u001b[39;49m\u001b[38;5;241;43m.\u001b[39;49m\u001b[43m_fig\u001b[49m\u001b[38;5;241;43m.\u001b[39;49m\u001b[43mcanvas\u001b[49m\u001b[38;5;241;43m.\u001b[39;49m\u001b[43mdraw_idle\u001b[49m\u001b[43m(\u001b[49m\u001b[43m)\u001b[49m\n",
      "File \u001b[0;32m~/anaconda3/lib/python3.10/site-packages/matplotlib/backend_bases.py:2078\u001b[0m, in \u001b[0;36mFigureCanvasBase.draw_idle\u001b[0;34m(self, *args, **kwargs)\u001b[0m\n\u001b[1;32m   2076\u001b[0m \u001b[38;5;28;01mif\u001b[39;00m \u001b[38;5;129;01mnot\u001b[39;00m \u001b[38;5;28mself\u001b[39m\u001b[38;5;241m.\u001b[39m_is_idle_drawing:\n\u001b[1;32m   2077\u001b[0m     \u001b[38;5;28;01mwith\u001b[39;00m \u001b[38;5;28mself\u001b[39m\u001b[38;5;241m.\u001b[39m_idle_draw_cntx():\n\u001b[0;32m-> 2078\u001b[0m         \u001b[38;5;28;43mself\u001b[39;49m\u001b[38;5;241;43m.\u001b[39;49m\u001b[43mdraw\u001b[49m\u001b[43m(\u001b[49m\u001b[38;5;241;43m*\u001b[39;49m\u001b[43margs\u001b[49m\u001b[43m,\u001b[49m\u001b[43m \u001b[49m\u001b[38;5;241;43m*\u001b[39;49m\u001b[38;5;241;43m*\u001b[39;49m\u001b[43mkwargs\u001b[49m\u001b[43m)\u001b[49m\n",
      "File \u001b[0;32m~/anaconda3/lib/python3.10/site-packages/matplotlib/backends/backend_agg.py:400\u001b[0m, in \u001b[0;36mFigureCanvasAgg.draw\u001b[0;34m(self)\u001b[0m\n\u001b[1;32m    396\u001b[0m \u001b[38;5;66;03m# Acquire a lock on the shared font cache.\u001b[39;00m\n\u001b[1;32m    397\u001b[0m \u001b[38;5;28;01mwith\u001b[39;00m RendererAgg\u001b[38;5;241m.\u001b[39mlock, \\\n\u001b[1;32m    398\u001b[0m      (\u001b[38;5;28mself\u001b[39m\u001b[38;5;241m.\u001b[39mtoolbar\u001b[38;5;241m.\u001b[39m_wait_cursor_for_draw_cm() \u001b[38;5;28;01mif\u001b[39;00m \u001b[38;5;28mself\u001b[39m\u001b[38;5;241m.\u001b[39mtoolbar\n\u001b[1;32m    399\u001b[0m       \u001b[38;5;28;01melse\u001b[39;00m nullcontext()):\n\u001b[0;32m--> 400\u001b[0m     \u001b[38;5;28;43mself\u001b[39;49m\u001b[38;5;241;43m.\u001b[39;49m\u001b[43mfigure\u001b[49m\u001b[38;5;241;43m.\u001b[39;49m\u001b[43mdraw\u001b[49m\u001b[43m(\u001b[49m\u001b[38;5;28;43mself\u001b[39;49m\u001b[38;5;241;43m.\u001b[39;49m\u001b[43mrenderer\u001b[49m\u001b[43m)\u001b[49m\n\u001b[1;32m    401\u001b[0m     \u001b[38;5;66;03m# A GUI class may be need to update a window using this draw, so\u001b[39;00m\n\u001b[1;32m    402\u001b[0m     \u001b[38;5;66;03m# don't forget to call the superclass.\u001b[39;00m\n\u001b[1;32m    403\u001b[0m     \u001b[38;5;28msuper\u001b[39m()\u001b[38;5;241m.\u001b[39mdraw()\n",
      "File \u001b[0;32m~/anaconda3/lib/python3.10/site-packages/matplotlib/artist.py:95\u001b[0m, in \u001b[0;36m_finalize_rasterization.<locals>.draw_wrapper\u001b[0;34m(artist, renderer, *args, **kwargs)\u001b[0m\n\u001b[1;32m     93\u001b[0m \u001b[38;5;129m@wraps\u001b[39m(draw)\n\u001b[1;32m     94\u001b[0m \u001b[38;5;28;01mdef\u001b[39;00m \u001b[38;5;21mdraw_wrapper\u001b[39m(artist, renderer, \u001b[38;5;241m*\u001b[39margs, \u001b[38;5;241m*\u001b[39m\u001b[38;5;241m*\u001b[39mkwargs):\n\u001b[0;32m---> 95\u001b[0m     result \u001b[38;5;241m=\u001b[39m \u001b[43mdraw\u001b[49m\u001b[43m(\u001b[49m\u001b[43martist\u001b[49m\u001b[43m,\u001b[49m\u001b[43m \u001b[49m\u001b[43mrenderer\u001b[49m\u001b[43m,\u001b[49m\u001b[43m \u001b[49m\u001b[38;5;241;43m*\u001b[39;49m\u001b[43margs\u001b[49m\u001b[43m,\u001b[49m\u001b[43m \u001b[49m\u001b[38;5;241;43m*\u001b[39;49m\u001b[38;5;241;43m*\u001b[39;49m\u001b[43mkwargs\u001b[49m\u001b[43m)\u001b[49m\n\u001b[1;32m     96\u001b[0m     \u001b[38;5;28;01mif\u001b[39;00m renderer\u001b[38;5;241m.\u001b[39m_rasterizing:\n\u001b[1;32m     97\u001b[0m         renderer\u001b[38;5;241m.\u001b[39mstop_rasterizing()\n",
      "File \u001b[0;32m~/anaconda3/lib/python3.10/site-packages/matplotlib/artist.py:72\u001b[0m, in \u001b[0;36mallow_rasterization.<locals>.draw_wrapper\u001b[0;34m(artist, renderer)\u001b[0m\n\u001b[1;32m     69\u001b[0m     \u001b[38;5;28;01mif\u001b[39;00m artist\u001b[38;5;241m.\u001b[39mget_agg_filter() \u001b[38;5;129;01mis\u001b[39;00m \u001b[38;5;129;01mnot\u001b[39;00m \u001b[38;5;28;01mNone\u001b[39;00m:\n\u001b[1;32m     70\u001b[0m         renderer\u001b[38;5;241m.\u001b[39mstart_filter()\n\u001b[0;32m---> 72\u001b[0m     \u001b[38;5;28;01mreturn\u001b[39;00m \u001b[43mdraw\u001b[49m\u001b[43m(\u001b[49m\u001b[43martist\u001b[49m\u001b[43m,\u001b[49m\u001b[43m \u001b[49m\u001b[43mrenderer\u001b[49m\u001b[43m)\u001b[49m\n\u001b[1;32m     73\u001b[0m \u001b[38;5;28;01mfinally\u001b[39;00m:\n\u001b[1;32m     74\u001b[0m     \u001b[38;5;28;01mif\u001b[39;00m artist\u001b[38;5;241m.\u001b[39mget_agg_filter() \u001b[38;5;129;01mis\u001b[39;00m \u001b[38;5;129;01mnot\u001b[39;00m \u001b[38;5;28;01mNone\u001b[39;00m:\n",
      "File \u001b[0;32m~/anaconda3/lib/python3.10/site-packages/matplotlib/figure.py:3135\u001b[0m, in \u001b[0;36mFigure.draw\u001b[0;34m(self, renderer)\u001b[0m\n\u001b[1;32m   3132\u001b[0m \u001b[38;5;28;01mfinally\u001b[39;00m:\n\u001b[1;32m   3133\u001b[0m     \u001b[38;5;28mself\u001b[39m\u001b[38;5;241m.\u001b[39mstale \u001b[38;5;241m=\u001b[39m \u001b[38;5;28;01mFalse\u001b[39;00m\n\u001b[0;32m-> 3135\u001b[0m \u001b[43mDrawEvent\u001b[49m\u001b[43m(\u001b[49m\u001b[38;5;124;43m\"\u001b[39;49m\u001b[38;5;124;43mdraw_event\u001b[39;49m\u001b[38;5;124;43m\"\u001b[39;49m\u001b[43m,\u001b[49m\u001b[43m \u001b[49m\u001b[38;5;28;43mself\u001b[39;49m\u001b[38;5;241;43m.\u001b[39;49m\u001b[43mcanvas\u001b[49m\u001b[43m,\u001b[49m\u001b[43m \u001b[49m\u001b[43mrenderer\u001b[49m\u001b[43m)\u001b[49m\u001b[38;5;241;43m.\u001b[39;49m\u001b[43m_process\u001b[49m\u001b[43m(\u001b[49m\u001b[43m)\u001b[49m\n",
      "File \u001b[0;32m~/anaconda3/lib/python3.10/site-packages/matplotlib/backend_bases.py:1259\u001b[0m, in \u001b[0;36mEvent._process\u001b[0;34m(self)\u001b[0m\n\u001b[1;32m   1257\u001b[0m \u001b[38;5;28;01mdef\u001b[39;00m \u001b[38;5;21m_process\u001b[39m(\u001b[38;5;28mself\u001b[39m):\n\u001b[1;32m   1258\u001b[0m     \u001b[38;5;124;03m\"\"\"Generate an event with name ``self.name`` on ``self.canvas``.\"\"\"\u001b[39;00m\n\u001b[0;32m-> 1259\u001b[0m     \u001b[38;5;28;43mself\u001b[39;49m\u001b[38;5;241;43m.\u001b[39;49m\u001b[43mcanvas\u001b[49m\u001b[38;5;241;43m.\u001b[39;49m\u001b[43mcallbacks\u001b[49m\u001b[38;5;241;43m.\u001b[39;49m\u001b[43mprocess\u001b[49m\u001b[43m(\u001b[49m\u001b[38;5;28;43mself\u001b[39;49m\u001b[38;5;241;43m.\u001b[39;49m\u001b[43mname\u001b[49m\u001b[43m,\u001b[49m\u001b[43m \u001b[49m\u001b[38;5;28;43mself\u001b[39;49m\u001b[43m)\u001b[49m\n",
      "File \u001b[0;32m~/anaconda3/lib/python3.10/site-packages/matplotlib/cbook/__init__.py:309\u001b[0m, in \u001b[0;36mCallbackRegistry.process\u001b[0;34m(self, s, *args, **kwargs)\u001b[0m\n\u001b[1;32m    307\u001b[0m \u001b[38;5;28;01mexcept\u001b[39;00m \u001b[38;5;167;01mException\u001b[39;00m \u001b[38;5;28;01mas\u001b[39;00m exc:\n\u001b[1;32m    308\u001b[0m     \u001b[38;5;28;01mif\u001b[39;00m \u001b[38;5;28mself\u001b[39m\u001b[38;5;241m.\u001b[39mexception_handler \u001b[38;5;129;01mis\u001b[39;00m \u001b[38;5;129;01mnot\u001b[39;00m \u001b[38;5;28;01mNone\u001b[39;00m:\n\u001b[0;32m--> 309\u001b[0m         \u001b[38;5;28;43mself\u001b[39;49m\u001b[38;5;241;43m.\u001b[39;49m\u001b[43mexception_handler\u001b[49m\u001b[43m(\u001b[49m\u001b[43mexc\u001b[49m\u001b[43m)\u001b[49m\n\u001b[1;32m    310\u001b[0m     \u001b[38;5;28;01melse\u001b[39;00m:\n\u001b[1;32m    311\u001b[0m         \u001b[38;5;28;01mraise\u001b[39;00m\n",
      "File \u001b[0;32m~/anaconda3/lib/python3.10/site-packages/matplotlib/cbook/__init__.py:96\u001b[0m, in \u001b[0;36m_exception_printer\u001b[0;34m(exc)\u001b[0m\n\u001b[1;32m     94\u001b[0m \u001b[38;5;28;01mdef\u001b[39;00m \u001b[38;5;21m_exception_printer\u001b[39m(exc):\n\u001b[1;32m     95\u001b[0m     \u001b[38;5;28;01mif\u001b[39;00m _get_running_interactive_framework() \u001b[38;5;129;01min\u001b[39;00m [\u001b[38;5;124m\"\u001b[39m\u001b[38;5;124mheadless\u001b[39m\u001b[38;5;124m\"\u001b[39m, \u001b[38;5;28;01mNone\u001b[39;00m]:\n\u001b[0;32m---> 96\u001b[0m         \u001b[38;5;28;01mraise\u001b[39;00m exc\n\u001b[1;32m     97\u001b[0m     \u001b[38;5;28;01melse\u001b[39;00m:\n\u001b[1;32m     98\u001b[0m         traceback\u001b[38;5;241m.\u001b[39mprint_exc()\n",
      "File \u001b[0;32m~/anaconda3/lib/python3.10/site-packages/matplotlib/cbook/__init__.py:304\u001b[0m, in \u001b[0;36mCallbackRegistry.process\u001b[0;34m(self, s, *args, **kwargs)\u001b[0m\n\u001b[1;32m    302\u001b[0m \u001b[38;5;28;01mif\u001b[39;00m func \u001b[38;5;129;01mis\u001b[39;00m \u001b[38;5;129;01mnot\u001b[39;00m \u001b[38;5;28;01mNone\u001b[39;00m:\n\u001b[1;32m    303\u001b[0m     \u001b[38;5;28;01mtry\u001b[39;00m:\n\u001b[0;32m--> 304\u001b[0m         \u001b[43mfunc\u001b[49m\u001b[43m(\u001b[49m\u001b[38;5;241;43m*\u001b[39;49m\u001b[43margs\u001b[49m\u001b[43m,\u001b[49m\u001b[43m \u001b[49m\u001b[38;5;241;43m*\u001b[39;49m\u001b[38;5;241;43m*\u001b[39;49m\u001b[43mkwargs\u001b[49m\u001b[43m)\u001b[49m\n\u001b[1;32m    305\u001b[0m     \u001b[38;5;66;03m# this does not capture KeyboardInterrupt, SystemExit,\u001b[39;00m\n\u001b[1;32m    306\u001b[0m     \u001b[38;5;66;03m# and GeneratorExit\u001b[39;00m\n\u001b[1;32m    307\u001b[0m     \u001b[38;5;28;01mexcept\u001b[39;00m \u001b[38;5;167;01mException\u001b[39;00m \u001b[38;5;28;01mas\u001b[39;00m exc:\n",
      "File \u001b[0;32m~/anaconda3/lib/python3.10/site-packages/matplotlib/animation.py:900\u001b[0m, in \u001b[0;36mAnimation._start\u001b[0;34m(self, *args)\u001b[0m\n\u001b[1;32m    897\u001b[0m \u001b[38;5;28mself\u001b[39m\u001b[38;5;241m.\u001b[39m_fig\u001b[38;5;241m.\u001b[39mcanvas\u001b[38;5;241m.\u001b[39mmpl_disconnect(\u001b[38;5;28mself\u001b[39m\u001b[38;5;241m.\u001b[39m_first_draw_id)\n\u001b[1;32m    899\u001b[0m \u001b[38;5;66;03m# Now do any initial draw\u001b[39;00m\n\u001b[0;32m--> 900\u001b[0m \u001b[38;5;28;43mself\u001b[39;49m\u001b[38;5;241;43m.\u001b[39;49m\u001b[43m_init_draw\u001b[49m\u001b[43m(\u001b[49m\u001b[43m)\u001b[49m\n\u001b[1;32m    902\u001b[0m \u001b[38;5;66;03m# Add our callback for stepping the animation and\u001b[39;00m\n\u001b[1;32m    903\u001b[0m \u001b[38;5;66;03m# actually start the event_source.\u001b[39;00m\n\u001b[1;32m    904\u001b[0m \u001b[38;5;28mself\u001b[39m\u001b[38;5;241m.\u001b[39mevent_source\u001b[38;5;241m.\u001b[39madd_callback(\u001b[38;5;28mself\u001b[39m\u001b[38;5;241m.\u001b[39m_step)\n",
      "File \u001b[0;32m~/anaconda3/lib/python3.10/site-packages/matplotlib/animation.py:1740\u001b[0m, in \u001b[0;36mFuncAnimation._init_draw\u001b[0;34m(self)\u001b[0m\n\u001b[1;32m   1732\u001b[0m         warnings\u001b[38;5;241m.\u001b[39mwarn(\n\u001b[1;32m   1733\u001b[0m             \u001b[38;5;124m\"\u001b[39m\u001b[38;5;124mCan not start iterating the frames for the initial draw. \u001b[39m\u001b[38;5;124m\"\u001b[39m\n\u001b[1;32m   1734\u001b[0m             \u001b[38;5;124m\"\u001b[39m\u001b[38;5;124mThis can be caused by passing in a 0 length sequence \u001b[39m\u001b[38;5;124m\"\u001b[39m\n\u001b[0;32m   (...)\u001b[0m\n\u001b[1;32m   1737\u001b[0m             \u001b[38;5;124m\"\u001b[39m\u001b[38;5;124mit may be exhausted due to a previous display or save.\u001b[39m\u001b[38;5;124m\"\u001b[39m\n\u001b[1;32m   1738\u001b[0m         )\n\u001b[1;32m   1739\u001b[0m         \u001b[38;5;28;01mreturn\u001b[39;00m\n\u001b[0;32m-> 1740\u001b[0m     \u001b[38;5;28;43mself\u001b[39;49m\u001b[38;5;241;43m.\u001b[39;49m\u001b[43m_draw_frame\u001b[49m\u001b[43m(\u001b[49m\u001b[43mframe_data\u001b[49m\u001b[43m)\u001b[49m\n\u001b[1;32m   1741\u001b[0m \u001b[38;5;28;01melse\u001b[39;00m:\n\u001b[1;32m   1742\u001b[0m     \u001b[38;5;28mself\u001b[39m\u001b[38;5;241m.\u001b[39m_drawn_artists \u001b[38;5;241m=\u001b[39m \u001b[38;5;28mself\u001b[39m\u001b[38;5;241m.\u001b[39m_init_func()\n",
      "File \u001b[0;32m~/anaconda3/lib/python3.10/site-packages/matplotlib/animation.py:1759\u001b[0m, in \u001b[0;36mFuncAnimation._draw_frame\u001b[0;34m(self, framedata)\u001b[0m\n\u001b[1;32m   1755\u001b[0m     \u001b[38;5;28mself\u001b[39m\u001b[38;5;241m.\u001b[39m_save_seq \u001b[38;5;241m=\u001b[39m \u001b[38;5;28mself\u001b[39m\u001b[38;5;241m.\u001b[39m_save_seq[\u001b[38;5;241m-\u001b[39m\u001b[38;5;28mself\u001b[39m\u001b[38;5;241m.\u001b[39m_save_count:]\n\u001b[1;32m   1757\u001b[0m \u001b[38;5;66;03m# Call the func with framedata and args. If blitting is desired,\u001b[39;00m\n\u001b[1;32m   1758\u001b[0m \u001b[38;5;66;03m# func needs to return a sequence of any artists that were modified.\u001b[39;00m\n\u001b[0;32m-> 1759\u001b[0m \u001b[38;5;28mself\u001b[39m\u001b[38;5;241m.\u001b[39m_drawn_artists \u001b[38;5;241m=\u001b[39m \u001b[38;5;28;43mself\u001b[39;49m\u001b[38;5;241;43m.\u001b[39;49m\u001b[43m_func\u001b[49m\u001b[43m(\u001b[49m\u001b[43mframedata\u001b[49m\u001b[43m,\u001b[49m\u001b[43m \u001b[49m\u001b[38;5;241;43m*\u001b[39;49m\u001b[38;5;28;43mself\u001b[39;49m\u001b[38;5;241;43m.\u001b[39;49m\u001b[43m_args\u001b[49m\u001b[43m)\u001b[49m\n\u001b[1;32m   1761\u001b[0m \u001b[38;5;28;01mif\u001b[39;00m \u001b[38;5;28mself\u001b[39m\u001b[38;5;241m.\u001b[39m_blit:\n\u001b[1;32m   1763\u001b[0m     err \u001b[38;5;241m=\u001b[39m \u001b[38;5;167;01mRuntimeError\u001b[39;00m(\u001b[38;5;124m'\u001b[39m\u001b[38;5;124mThe animation function must return a sequence \u001b[39m\u001b[38;5;124m'\u001b[39m\n\u001b[1;32m   1764\u001b[0m                        \u001b[38;5;124m'\u001b[39m\u001b[38;5;124mof Artist objects.\u001b[39m\u001b[38;5;124m'\u001b[39m)\n",
      "Cell \u001b[0;32mIn[34], line 81\u001b[0m, in \u001b[0;36mDish.animate.<locals>.func\u001b[0;34m(frame)\u001b[0m\n\u001b[1;32m     80\u001b[0m \u001b[38;5;28;01mdef\u001b[39;00m \u001b[38;5;21mfunc\u001b[39m(frame):\n\u001b[0;32m---> 81\u001b[0m     \u001b[38;5;28;43mself\u001b[39;49m\u001b[38;5;241;43m.\u001b[39;49m\u001b[43mmould\u001b[49m\u001b[38;5;241;43m.\u001b[39;49m\u001b[43mevolve\u001b[49m\u001b[43m(\u001b[49m\u001b[43m)\u001b[49m\n\u001b[1;32m     82\u001b[0m     im\u001b[38;5;241m.\u001b[39mset_data(\u001b[38;5;28mself\u001b[39m\u001b[38;5;241m.\u001b[39mpheromones(\u001b[38;5;28mself\u001b[39m\u001b[38;5;241m.\u001b[39mlattice)\u001b[38;5;241m.\u001b[39mT)\n\u001b[1;32m     83\u001b[0m     \u001b[38;5;28;01mreturn\u001b[39;00m [im]\n",
      "Cell \u001b[0;32mIn[33], line 192\u001b[0m, in \u001b[0;36mMould.evolve\u001b[0;34m(self)\u001b[0m\n\u001b[1;32m    190\u001b[0m slime_idx \u001b[38;5;241m=\u001b[39m \u001b[38;5;28mlist\u001b[39m(\u001b[38;5;28mself\u001b[39m\u001b[38;5;241m.\u001b[39mslime_cells\u001b[38;5;241m.\u001b[39mkeys())\n\u001b[1;32m    191\u001b[0m \u001b[38;5;28;01mfor\u001b[39;00m idx \u001b[38;5;129;01min\u001b[39;00m slime_idx:\n\u001b[0;32m--> 192\u001b[0m     \u001b[38;5;28;43mself\u001b[39;49m\u001b[38;5;241;43m.\u001b[39;49m\u001b[43mdish\u001b[49m\u001b[38;5;241;43m.\u001b[39;49m\u001b[43mget_lattice\u001b[49m\u001b[43m(\u001b[49m\u001b[43m)\u001b[49m\u001b[43m[\u001b[49m\u001b[43midx\u001b[49m\u001b[43m]\u001b[49m\u001b[38;5;241;43m.\u001b[39;49m\u001b[43mstep\u001b[49m\u001b[43m(\u001b[49m\u001b[38;5;28;43mself\u001b[39;49m\u001b[38;5;241;43m.\u001b[39;49m\u001b[43mdish\u001b[49m\u001b[38;5;241;43m.\u001b[39;49m\u001b[43mget_lattice\u001b[49m\u001b[43m(\u001b[49m\u001b[43m)\u001b[49m\u001b[43m,\u001b[49m\u001b[43m \u001b[49m\u001b[38;5;28;43mself\u001b[39;49m\u001b[38;5;241;43m.\u001b[39;49m\u001b[43mdecay\u001b[49m\u001b[43m)\u001b[49m\n\u001b[1;32m    193\u001b[0m \u001b[38;5;28;01mif\u001b[39;00m \u001b[38;5;28mlen\u001b[39m(\u001b[38;5;28mself\u001b[39m\u001b[38;5;241m.\u001b[39mreached_food_ids) \u001b[38;5;241m==\u001b[39m previous_reached_foods:\n\u001b[1;32m    194\u001b[0m     \u001b[38;5;28mself\u001b[39m\u001b[38;5;241m.\u001b[39mtarget_switch_count \u001b[38;5;241m+\u001b[39m\u001b[38;5;241m=\u001b[39m \u001b[38;5;241m1\u001b[39m\n",
      "Cell \u001b[0;32mIn[32], line 266\u001b[0m, in \u001b[0;36mSlimeCell.step\u001b[0;34m(self, lattice, decay)\u001b[0m\n\u001b[1;32m    261\u001b[0m \u001b[38;5;28;01mdef\u001b[39;00m \u001b[38;5;21mstep\u001b[39m(\u001b[38;5;28mself\u001b[39m, lattice, decay):\n\u001b[1;32m    262\u001b[0m     \u001b[38;5;124;03m\"\"\"\u001b[39;00m\n\u001b[1;32m    263\u001b[0m \u001b[38;5;124;03m    The sensory stage: all slime cells adjust their direction based on the food\u001b[39;00m\n\u001b[1;32m    264\u001b[0m \u001b[38;5;124;03m    The diffusion stage: all pheromones undergo diffusion\u001b[39;00m\n\u001b[1;32m    265\u001b[0m \u001b[38;5;124;03m    \"\"\"\u001b[39;00m\n\u001b[0;32m--> 266\u001b[0m     \u001b[38;5;28;43mself\u001b[39;49m\u001b[38;5;241;43m.\u001b[39;49m\u001b[43msensory\u001b[49m\u001b[43m(\u001b[49m\u001b[43m)\u001b[49m\n\u001b[1;32m    267\u001b[0m     \u001b[38;5;28mself\u001b[39m\u001b[38;5;241m.\u001b[39mdiffusion(lattice, decay)\n",
      "Cell \u001b[0;32mIn[32], line 141\u001b[0m, in \u001b[0;36mSlimeCell.sensory\u001b[0;34m(self)\u001b[0m\n\u001b[1;32m    138\u001b[0m \u001b[38;5;66;03m# target_food = self.mould.get_current_target()\u001b[39;00m\n\u001b[1;32m    139\u001b[0m \u001b[38;5;66;03m# food_idx = target_food[1]\u001b[39;00m\n\u001b[1;32m    140\u001b[0m \u001b[38;5;28;01mif\u001b[39;00m \u001b[38;5;28mself\u001b[39m\u001b[38;5;241m.\u001b[39mreached_food_id \u001b[38;5;241m==\u001b[39m \u001b[38;5;28mself\u001b[39m\u001b[38;5;241m.\u001b[39mstep_food:\n\u001b[0;32m--> 141\u001b[0m     \u001b[38;5;28;43mself\u001b[39;49m\u001b[38;5;241;43m.\u001b[39;49m\u001b[43mreset_step_food\u001b[49m\u001b[43m(\u001b[49m\u001b[43m)\u001b[49m\n\u001b[1;32m    142\u001b[0m food_idx \u001b[38;5;241m=\u001b[39m \u001b[38;5;28mself\u001b[39m\u001b[38;5;241m.\u001b[39mstep_food[\u001b[38;5;241m1\u001b[39m]\n\u001b[1;32m    144\u001b[0m \u001b[38;5;66;03m# (-1, -1)\u001b[39;00m\n",
      "Cell \u001b[0;32mIn[32], line 118\u001b[0m, in \u001b[0;36mSlimeCell.reset_step_food\u001b[0;34m(self)\u001b[0m\n\u001b[1;32m    113\u001b[0m \u001b[38;5;124;03m\"\"\"\u001b[39;00m\n\u001b[1;32m    114\u001b[0m \u001b[38;5;124;03mThe step food is the food in the food path the slime cell will go next.\u001b[39;00m\n\u001b[1;32m    115\u001b[0m \u001b[38;5;124;03mreset the step food of the current slime cell\u001b[39;00m\n\u001b[1;32m    116\u001b[0m \u001b[38;5;124;03m\"\"\"\u001b[39;00m\n\u001b[1;32m    117\u001b[0m \u001b[38;5;66;03m# reached target\u001b[39;00m\n\u001b[0;32m--> 118\u001b[0m \u001b[38;5;28;01mif\u001b[39;00m \u001b[38;5;28mself\u001b[39m\u001b[38;5;241m.\u001b[39mreached_food_id \u001b[38;5;241m==\u001b[39m \u001b[38;5;28mself\u001b[39m\u001b[38;5;241m.\u001b[39mcurr_target \u001b[38;5;129;01mand\u001b[39;00m \u001b[38;5;28mself\u001b[39m\u001b[38;5;241m.\u001b[39mcurr_target \u001b[38;5;241m==\u001b[39m \u001b[38;5;28;43mself\u001b[39;49m\u001b[38;5;241;43m.\u001b[39;49m\u001b[43mmould\u001b[49m\u001b[38;5;241;43m.\u001b[39;49m\u001b[43mget_current_target\u001b[49m\u001b[43m(\u001b[49m\u001b[43m)\u001b[49m\u001b[43m[\u001b[49m\u001b[38;5;241;43m0\u001b[39;49m\u001b[43m]\u001b[49m:\n\u001b[1;32m    119\u001b[0m     \u001b[38;5;28;01mreturn\u001b[39;00m\n\u001b[1;32m    121\u001b[0m \u001b[38;5;28;01mif\u001b[39;00m \u001b[38;5;28mself\u001b[39m\u001b[38;5;241m.\u001b[39mstep_food \u001b[38;5;129;01mis\u001b[39;00m \u001b[38;5;28;01mNone\u001b[39;00m \u001b[38;5;129;01mor\u001b[39;00m \u001b[38;5;28mlen\u001b[39m(\u001b[38;5;28mself\u001b[39m\u001b[38;5;241m.\u001b[39mfood_path) \u001b[38;5;241m==\u001b[39m \u001b[38;5;241m0\u001b[39m:\n",
      "\u001b[0;31mTypeError\u001b[0m: 'int' object is not subscriptable"
     ]
    },
    {
     "data": {
      "image/png": "[encoded data removed]",
      "text/plain": [
       "<Figure size 630x500 with 1 Axes>"
      ]
     },
     "metadata": {},
     "output_type": "display_data"
    }
   ],
   "source": [
    "# Parameters\n",
    "frames = 50  # Number of frames in the animation\n",
    "interval = 100  # Interval between frames in milliseconds\n",
    "filename = \"output/50steps.gif\"  # Filename to save the animation\n",
    "\n",
    "# Run the simulation\n",
    "animation = dish.animate(frames=frames, interval=interval, filename=filename)\n",
    "\n",
    "# To display the animation in the notebook\n",
    "plt.show()"
   ]
  },
  {
   "cell_type": "code",
   "execution_count": 21,
   "metadata": {
    "scrolled": true
   },
   "outputs": [
    {
     "ename": "AttributeError",
     "evalue": "'NoneType' object has no attribute 'pheromone'",
     "output_type": "error",
     "traceback": [
      "\u001b[0;31m---------------------------------------------------------------------------\u001b[0m",
      "\u001b[0;31mAttributeError\u001b[0m                            Traceback (most recent call last)",
      "Cell \u001b[0;32mIn[21], line 1\u001b[0m\n\u001b[0;32m----> 1\u001b[0m \u001b[43mdish\u001b[49m\u001b[38;5;241;43m.\u001b[39;49m\u001b[43manimate\u001b[49m\u001b[43m(\u001b[49m\u001b[43mframes\u001b[49m\u001b[38;5;241;43m=\u001b[39;49m\u001b[38;5;241;43m50\u001b[39;49m\u001b[43m,\u001b[49m\u001b[43m \u001b[49m\u001b[43minterval\u001b[49m\u001b[38;5;241;43m=\u001b[39;49m\u001b[38;5;241;43m100\u001b[39;49m\u001b[43m,\u001b[49m\u001b[43m \u001b[49m\u001b[43mfilename\u001b[49m\u001b[38;5;241;43m=\u001b[39;49m\u001b[38;5;124;43m\"\u001b[39;49m\u001b[38;5;124;43moutput/50steps.gif\u001b[39;49m\u001b[38;5;124;43m\"\u001b[39;49m\u001b[43m)\u001b[49m\n\u001b[1;32m      2\u001b[0m plt\u001b[38;5;241m.\u001b[39mshow()\n",
      "Cell \u001b[0;32mIn[19], line 70\u001b[0m, in \u001b[0;36mDish.animate\u001b[0;34m(self, frames, interval, filename)\u001b[0m\n\u001b[1;32m     65\u001b[0m \u001b[38;5;124;03m\"\"\"\u001b[39;00m\n\u001b[1;32m     66\u001b[0m \u001b[38;5;124;03mReturns an animation\u001b[39;00m\n\u001b[1;32m     67\u001b[0m \u001b[38;5;124;03m\"\"\"\u001b[39;00m\n\u001b[1;32m     68\u001b[0m fig \u001b[38;5;241m=\u001b[39m plt\u001b[38;5;241m.\u001b[39mfigure(figsize\u001b[38;5;241m=\u001b[39m(\u001b[38;5;241m6.3\u001b[39m, \u001b[38;5;241m5\u001b[39m))\n\u001b[0;32m---> 70\u001b[0m im \u001b[38;5;241m=\u001b[39m \u001b[38;5;28;43mself\u001b[39;49m\u001b[38;5;241;43m.\u001b[39;49m\u001b[43mdraw_pheromones\u001b[49m\u001b[43m(\u001b[49m\u001b[43m)\u001b[49m\n\u001b[1;32m     71\u001b[0m plt\u001b[38;5;241m.\u001b[39maxis(\u001b[38;5;124m'\u001b[39m\u001b[38;5;124mtight\u001b[39m\u001b[38;5;124m'\u001b[39m)\n\u001b[1;32m     72\u001b[0m plt\u001b[38;5;241m.\u001b[39maxis(\u001b[38;5;124m'\u001b[39m\u001b[38;5;124mimage\u001b[39m\u001b[38;5;124m'\u001b[39m)\n",
      "Cell \u001b[0;32mIn[19], line 55\u001b[0m, in \u001b[0;36mDish.draw_pheromones\u001b[0;34m(self, cmap)\u001b[0m\n\u001b[1;32m     53\u001b[0m \u001b[38;5;28;01mdef\u001b[39;00m \u001b[38;5;21mdraw_pheromones\u001b[39m(\u001b[38;5;28mself\u001b[39m, cmap\u001b[38;5;241m=\u001b[39m\u001b[38;5;124m'\u001b[39m\u001b[38;5;124mYlOrRd\u001b[39m\u001b[38;5;124m'\u001b[39m):\n\u001b[1;32m     54\u001b[0m     \u001b[38;5;124;03m\"\"\"Draws the cells.\"\"\"\u001b[39;00m\n\u001b[0;32m---> 55\u001b[0m     data \u001b[38;5;241m=\u001b[39m \u001b[38;5;28;43mself\u001b[39;49m\u001b[38;5;241;43m.\u001b[39;49m\u001b[43mpheromones\u001b[49m\u001b[43m(\u001b[49m\u001b[38;5;28;43mself\u001b[39;49m\u001b[38;5;241;43m.\u001b[39;49m\u001b[43mlattice\u001b[49m\u001b[43m)\u001b[49m\n\u001b[1;32m     56\u001b[0m     data \u001b[38;5;241m=\u001b[39m data\u001b[38;5;241m.\u001b[39mT\n\u001b[1;32m     58\u001b[0m     \u001b[38;5;28;01mreturn\u001b[39;00m plt\u001b[38;5;241m.\u001b[39mimshow(\u001b[38;5;28mself\u001b[39m\u001b[38;5;241m.\u001b[39mpheromones(\u001b[38;5;28mself\u001b[39m\u001b[38;5;241m.\u001b[39mlattice),\n\u001b[1;32m     59\u001b[0m                       cmap\u001b[38;5;241m=\u001b[39mcmap,\n\u001b[1;32m     60\u001b[0m                       vmin\u001b[38;5;241m=\u001b[39m\u001b[38;5;241m0\u001b[39m, vmax\u001b[38;5;241m=\u001b[39m\u001b[38;5;241m10\u001b[39m,\n\u001b[1;32m     61\u001b[0m                       interpolation\u001b[38;5;241m=\u001b[39m\u001b[38;5;124m'\u001b[39m\u001b[38;5;124mnone\u001b[39m\u001b[38;5;124m'\u001b[39m,\n\u001b[1;32m     62\u001b[0m                       origin\u001b[38;5;241m=\u001b[39m\u001b[38;5;124m'\u001b[39m\u001b[38;5;124mlower\u001b[39m\u001b[38;5;124m'\u001b[39m, extent\u001b[38;5;241m=\u001b[39m[\u001b[38;5;241m0\u001b[39m, data\u001b[38;5;241m.\u001b[39mshape[\u001b[38;5;241m1\u001b[39m], \u001b[38;5;241m0\u001b[39m, data\u001b[38;5;241m.\u001b[39mshape[\u001b[38;5;241m0\u001b[39m]])\n",
      "Cell \u001b[0;32mIn[19], line 50\u001b[0m, in \u001b[0;36mDish.pheromones\u001b[0;34m(lattice)\u001b[0m\n\u001b[1;32m     48\u001b[0m pheromones \u001b[38;5;241m=\u001b[39m np\u001b[38;5;241m.\u001b[39mzeros_like(lattice, dtype\u001b[38;5;241m=\u001b[39m\u001b[38;5;28mfloat\u001b[39m)\n\u001b[1;32m     49\u001b[0m \u001b[38;5;28;01mfor\u001b[39;00m i \u001b[38;5;129;01min\u001b[39;00m np\u001b[38;5;241m.\u001b[39mndindex(lattice\u001b[38;5;241m.\u001b[39mshape):\n\u001b[0;32m---> 50\u001b[0m     pheromones[i] \u001b[38;5;241m=\u001b[39m \u001b[43mlattice\u001b[49m\u001b[43m[\u001b[49m\u001b[43mi\u001b[49m\u001b[43m]\u001b[49m\u001b[38;5;241;43m.\u001b[39;49m\u001b[43mpheromone\u001b[49m\n\u001b[1;32m     51\u001b[0m \u001b[38;5;28;01mreturn\u001b[39;00m pheromones\n",
      "\u001b[0;31mAttributeError\u001b[0m: 'NoneType' object has no attribute 'pheromone'"
     ]
    },
    {
     "data": {
      "text/plain": [
       "<Figure size 630x500 with 0 Axes>"
      ]
     },
     "metadata": {},
     "output_type": "display_data"
    }
   ],
   "source": [
    "dish.animate(frames=50, interval=100, filename=\"output/50steps.gif\")\n",
    "plt.show()"
   ]
  },
  {
   "cell_type": "code",
   "execution_count": null,
   "metadata": {},
   "outputs": [],
   "source": [
    "fig = plt.figure(figsize=(6.3, 5))\n",
    "nx.draw(dish.food_graph, dish.food_positions, \n",
    "        node_color='C1', \n",
    "        node_shape='s', \n",
    "        node_size=12, \n",
    "        with_labels=False)\n",
    "savefig('output/slime_graph_50steps.png')"
   ]
  },
  {
   "cell_type": "markdown",
   "metadata": {},
   "source": [
    "### Animate 50 + 100 steps"
   ]
  },
  {
   "cell_type": "code",
   "execution_count": null,
   "metadata": {},
   "outputs": [],
   "source": [
    "dish.animate(frames=100, interval=100, filename=\"output/150steps.gif\")\n",
    "plt.show()"
   ]
  },
  {
   "cell_type": "code",
   "execution_count": null,
   "metadata": {},
   "outputs": [],
   "source": [
    "fig = plt.figure(figsize=(6.3, 5))\n",
    "nx.draw(dish.food_graph, dish.food_positions, \n",
    "        node_color='C1', \n",
    "        node_shape='s', \n",
    "        node_size=12, \n",
    "        with_labels=False)\n",
    "savefig('output/slime_graph_150steps.png')"
   ]
  },
  {
   "cell_type": "markdown",
   "metadata": {},
   "source": [
    "### Animate 50 + 100 + 100 steps"
   ]
  },
  {
   "cell_type": "code",
   "execution_count": null,
   "metadata": {},
   "outputs": [],
   "source": [
    "dish.animate(frames=100, interval=100, filename=\"output/250steps.gif\")\n",
    "plt.show()"
   ]
  },
  {
   "cell_type": "code",
   "execution_count": null,
   "metadata": {},
   "outputs": [],
   "source": [
    "nx.draw(dish.food_graph, dish.food_positions, \n",
    "        node_color='C1', \n",
    "        node_shape='s', \n",
    "        node_size=12, \n",
    "        with_labels=False)\n",
    "savefig('output/slime_graph_250steps.png')"
   ]
  },
  {
   "cell_type": "markdown",
   "metadata": {},
   "source": [
    "### Animate 50 + 100 + 100 + 100 steps"
   ]
  },
  {
   "cell_type": "code",
   "execution_count": null,
   "metadata": {},
   "outputs": [],
   "source": [
    "dish.animate(frames=100, interval=100, filename=\"output/350steps.gif\")\n",
    "plt.show()"
   ]
  },
  {
   "cell_type": "code",
   "execution_count": null,
   "metadata": {},
   "outputs": [],
   "source": [
    "fig = plt.figure(figsize=(6.3, 5))\n",
    "nx.draw(dish.food_graph, dish.food_positions, \n",
    "        node_color='C1', \n",
    "        node_shape='s', \n",
    "        node_size=12, \n",
    "        with_labels=False)\n",
    "savefig('output/slime_graph_350steps.png')"
   ]
  },
  {
   "cell_type": "markdown",
   "metadata": {},
   "source": [
    "## Graph Analysis"
   ]
  },
  {
   "cell_type": "markdown",
   "metadata": {},
   "source": [
    "### Statistics"
   ]
  },
  {
   "cell_type": "code",
   "execution_count": null,
   "metadata": {},
   "outputs": [],
   "source": [
    "print('Clustering coefficient:')\n",
    "print('Original graph: '+str(clustering_coefficient(G)))\n",
    "print('Graph connected by slime mould: '+str(clustering_coefficient(dish.get_food_graph())))\n",
    "print()\n",
    "\n",
    "print('Path length:')\n",
    "print('Original graph: '+str(characteristic_path_length(G)))\n",
    "print('Graph connected by slime mould: '+str(characteristic_path_length(dish.get_food_graph())))\n",
    "print()\n",
    "\n",
    "print('Number of Nodes: '+str(len(G.nodes)))\n",
    "print('Number of edges in the orginal graph: '+str(len(G.edges)))\n",
    "print('Number of edges in the graph connected by slime mould: '+str(len(dish.get_food_graph().edges)))"
   ]
  },
  {
   "cell_type": "markdown",
   "metadata": {},
   "source": [
    "### PMF in linear scale"
   ]
  },
  {
   "cell_type": "code",
   "execution_count": null,
   "metadata": {},
   "outputs": [],
   "source": [
    "pmf_original = Pmf.from_seq(degrees(G))\n",
    "pmf_slime = Pmf.from_seq(degrees(dish.get_food_graph()))\n",
    "plt.figure(figsize=(8,4))\n",
    "\n",
    "plt.subplot(1,2,1)\n",
    "pmf_original.plot(label='Original Graph', color='C0')\n",
    "decorate(xlabel='Degree', ylabel='PMF')\n",
    "\n",
    "plt.subplot(1,2,2)\n",
    "pmf_slime.plot(label='Slime Mould Graph', color='C2')\n",
    "decorate(xlabel='Degree')\n",
    "savefig('output/pmf.png')"
   ]
  },
  {
   "cell_type": "markdown",
   "metadata": {},
   "source": [
    "## Agent Analysis"
   ]
  },
  {
   "cell_type": "markdown",
   "metadata": {},
   "source": [
    "### Average pheromone of active agents"
   ]
  },
  {
   "cell_type": "code",
   "execution_count": null,
   "metadata": {},
   "outputs": [],
   "source": [
    "plt.plot(dish.mould.get_avg_ph())\n",
    "decorate(xlabel='Steps', ylabel='Average Pheromone', loc='upper left')\n",
    "savefig('output/avg_ph.png')"
   ]
  },
  {
   "cell_type": "markdown",
   "metadata": {},
   "source": [
    "### Number of agents"
   ]
  },
  {
   "cell_type": "code",
   "execution_count": null,
   "metadata": {},
   "outputs": [],
   "source": [
    "plt.plot(dish.mould.get_total_num(), label='total agent')\n",
    "plt.plot(dish.mould.get_total_active_num(), label='active agent')\n",
    "plt.plot(dish.mould.get_total_inactive_num(), label='inactive agent')\n",
    "decorate(xlabel='Steps', ylabel='Number of Agents', loc='upper left')\n",
    "savefig('output/agent_num.png')"
   ]
  },
  {
   "cell_type": "markdown",
   "metadata": {},
   "source": [
    "### Slime mould coverage ratio"
   ]
  },
  {
   "cell_type": "code",
   "execution_count": null,
   "metadata": {},
   "outputs": [],
   "source": [
    "plt.plot(dish.mould.get_coverage_ratio())\n",
    "decorate(xlabel='Steps', ylabel='Coverage Ratio', loc='upper left')\n",
    "savefig('output/cover_ratio.png')"
   ]
  },
  {
   "cell_type": "markdown",
   "metadata": {},
   "source": [
    "### Total number of connected food"
   ]
  },
  {
   "cell_type": "code",
   "execution_count": null,
   "metadata": {},
   "outputs": [],
   "source": [
    "plt.plot(dish.mould.get_total_reached_foods())\n",
    "decorate(xlabel='Steps', ylabel='Total Connected Food', loc='upper left')\n",
    "savefig('output/connected_food.png')"
   ]
  },
  {
   "cell_type": "markdown",
   "metadata": {},
   "source": [
    "## Parametric Study"
   ]
  },
  {
   "cell_type": "markdown",
   "metadata": {},
   "source": [
    "### Experiments with different decay value"
   ]
  },
  {
   "cell_type": "code",
   "execution_count": null,
   "metadata": {},
   "outputs": [],
   "source": [
    "moulds = {}\n",
    "graphs = {}\n",
    "\n",
    "start_loc = (cities.at[20,'x'], cities.at[20,'y'])\n",
    "\n",
    "for i, decay in enumerate([0.15, 0.2, 0.25]):\n",
    "    dish = Dish(dish_shape=(max(cities.x) + 50, max(cities.y) + 50), foods=cities, start_loc=start_loc, mould_shape=(5, 5), init_mould_coverage=1, decay=decay)\n",
    "    while len(dish.mould.get_reached_food_ids()) != len(cities):\n",
    "        dish.mould.evolve()\n",
    "    moulds[i] = dish.mould\n",
    "    graphs[i] = dish.get_food_graph()"
   ]
  },
  {
   "cell_type": "markdown",
   "metadata": {},
   "source": [
    "### Clustering coefficient and path length"
   ]
  },
  {
   "cell_type": "code",
   "execution_count": null,
   "metadata": {},
   "outputs": [],
   "source": [
    "cluster_coefs = []\n",
    "paths = []\n",
    "edge_num = []\n",
    "node_num = []\n",
    "for i, graph in graphs.items():\n",
    "    cluster_coefs.append(clustering_coefficient(graph))\n",
    "    paths.append(characteristic_path_length(graph))\n",
    "    edge_num.append(len(graph.edges))\n",
    "    node_num.append(len(graph.nodes))\n",
    "dicts = {'decay':[0.15, 0.2, 0.25],'clustering coefficient': cluster_coefs, 'path length': paths, 'edges':edge_num, 'nodes': node_num}\n",
    "pd.DataFrame(dicts)"
   ]
  },
  {
   "cell_type": "markdown",
   "metadata": {},
   "source": [
    "### PMF in linear scale"
   ]
  },
  {
   "cell_type": "code",
   "execution_count": null,
   "metadata": {},
   "outputs": [],
   "source": [
    "pmf_original = Pmf.from_seq(degrees(G))\n",
    "\n",
    "plt.figure(figsize=(8,4))\n",
    "\n",
    "plt.subplot(1,2,1)\n",
    "pmf_original.plot(label='Original', color='C0')\n",
    "decorate(xlabel='Degree', ylabel='PMF', loc='lower left')\n",
    "\n",
    "plt.subplot(1,2,2)\n",
    "for i, graph in graphs.items():\n",
    "    pmf_slime = Pmf.from_seq(degrees(graph))\n",
    "    pmf_slime.plot(label='Slime with '+str(0.15+0.05*i)+' decay' , color='C'+str(i))\n",
    "decorate(xlabel='Degree', loc='lower left')\n",
    "savefig('output/pmf_para.png')"
   ]
  },
  {
   "cell_type": "markdown",
   "metadata": {},
   "source": [
    "### Number of steps for connecting all foods"
   ]
  },
  {
   "cell_type": "code",
   "execution_count": null,
   "metadata": {},
   "outputs": [],
   "source": [
    "plt.figure(figsize=(6,3))\n",
    "step_nums = {}\n",
    "for i, mould in moulds.items():\n",
    "    step_nums[str(0.15+0.05*i)] = len(mould.get_avg_ph())\n",
    "plt.barh(*zip(*step_nums.items()))\n",
    "decorate(xlabel='Decay', ylabel='Decay')\n",
    "savefig('output/step_num_para.png')"
   ]
  },
  {
   "cell_type": "markdown",
   "metadata": {},
   "source": [
    "### Average pheromone of active agents"
   ]
  },
  {
   "cell_type": "code",
   "execution_count": null,
   "metadata": {},
   "outputs": [],
   "source": [
    "for i, mould in moulds.items():\n",
    "    plt.plot(mould.get_avg_ph(), color='C'+str(i), label='decay='+str(0.15+0.05*i))\n",
    "decorate(xlabel='Steps', ylabel='Average Pheromone', loc='lower right')\n",
    "savefig('output/avg_ph_para.png')"
   ]
  },
  {
   "cell_type": "markdown",
   "metadata": {},
   "source": [
    "### Number of agents"
   ]
  },
  {
   "cell_type": "code",
   "execution_count": null,
   "metadata": {},
   "outputs": [],
   "source": [
    "plt.figure(figsize=(10,4))\n",
    "\n",
    "for i, mould in moulds.items():\n",
    "    if i == 0:\n",
    "        plt.subplot(1,2,1)\n",
    "        decorate(ylabel='Number of Agents')\n",
    "        plt.plot(mould.get_total_num(), color='C'+str(i), label='total agents with '+str(0.15+0.05*i)+' decay')\n",
    "        plt.plot(mould.get_total_active_num(), color='C'+str(i), label='active agents with '+str(0.15+0.05*i)+' decay', alpha=0.7)\n",
    "        plt.plot(mould.get_total_inactive_num(), color='C'+str(i), label='inactive agents with '+str(0.15+0.05*i)+' decay', alpha=0.3)\n",
    "        decorate(xlabel='Steps', loc='upper left')\n",
    "\n",
    "    plt.subplot(1,2,2)\n",
    "    plt.plot(mould.get_total_num(), color='C'+str(i), label='total agents with '+str(0.15+0.05*i)+' decay')\n",
    "    decorate(xlabel='Steps', loc='upper left')\n",
    "savefig('output/agent_num_para.png')"
   ]
  },
  {
   "cell_type": "markdown",
   "metadata": {},
   "source": [
    "### Slime mould coverage ratio"
   ]
  },
  {
   "cell_type": "code",
   "execution_count": null,
   "metadata": {},
   "outputs": [],
   "source": [
    "for i, mould in moulds.items():\n",
    "    plt.plot(mould.get_coverage_ratio(), color='C'+str(i), label=str(0.15+0.05*i)+'decay')\n",
    "decorate(xlabel='Steps', ylabel='Coverage Ratio', loc='upper left')\n",
    "savefig('output/cover_ratio_para.png')"
   ]
  },
  {
   "cell_type": "markdown",
   "metadata": {},
   "source": [
    "### Total number of connected food"
   ]
  },
  {
   "cell_type": "code",
   "execution_count": null,
   "metadata": {},
   "outputs": [],
   "source": [
    "for i, mould in moulds.items():\n",
    "    plt.plot(mould.get_total_reached_foods(), color='C'+str(i), label='decay='+str(0.15+0.05*i))\n",
    "decorate(xlabel='Steps', ylabel='Total Connected Food', loc='upper left')\n",
    "savefig('output/connected_food_para.png')"
   ]
  },
  {
   "cell_type": "code",
   "execution_count": null,
   "metadata": {},
   "outputs": [],
   "source": []
  }
 ],
 "metadata": {
  "kernelspec": {
   "display_name": "Python 3 (ipykernel)",
   "language": "python",
   "name": "python3"
  },
  "language_info": {
   "codemirror_mode": {
    "name": "ipython",
    "version": 3
   },
   "file_extension": ".py",
   "mimetype": "text/x-python",
   "name": "python",
   "nbconvert_exporter": "python",
   "pygments_lexer": "ipython3",
   "version": "3.10.9"
  },
  "vscode": {
   "interpreter": {
    "hash": "86ca1d4eef2403ef14dc1b66f183a2cdea05998cf956d8396dbd0ed12de77491"
   }
  }
 },
 "nbformat": 4,
 "nbformat_minor": 2
}
